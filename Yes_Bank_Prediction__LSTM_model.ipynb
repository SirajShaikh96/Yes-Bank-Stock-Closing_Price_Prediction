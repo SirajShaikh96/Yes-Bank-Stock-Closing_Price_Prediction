{
  "cells": [
    {
      "cell_type": "markdown",
      "metadata": {
        "id": "view-in-github",
        "colab_type": "text"
      },
      "source": [
        "<a href=\"https://colab.research.google.com/github/sameersat96/Yes-Bank-Stock-Closing_Price_Prediction/blob/main/Yes_Bank_Prediction__LSTM_model.ipynb\" target=\"_parent\"><img src=\"https://colab.research.google.com/assets/colab-badge.svg\" alt=\"Open In Colab\"/></a>"
      ]
    },
    {
      "cell_type": "markdown",
      "metadata": {
        "id": "HgrYbbzvItLM"
      },
      "source": [
        "# **IMPORTING THE NECESSARY LIBRARIES**"
      ]
    },
    {
      "cell_type": "code",
      "execution_count": 49,
      "metadata": {
        "id": "EhMm9NR81rtK"
      },
      "outputs": [],
      "source": [
        "#Importing all the libarary\n",
        "\n",
        "import numpy as np\n",
        "import pandas as pd\n",
        "import matplotlib.pyplot as plt\n",
        "\n"
      ]
    },
    {
      "cell_type": "markdown",
      "metadata": {
        "id": "p2oa1t65JO6r"
      },
      "source": [
        "## **IMPORTING THE DATASET'S INTO OUR COLLAB NOTEBOOK**"
      ]
    },
    {
      "cell_type": "code",
      "execution_count": 50,
      "metadata": {
        "id": "xd1z5Tei2cnr",
        "colab": {
          "base_uri": "https://localhost:8080/"
        },
        "outputId": "1f2a5414-fac6-4fe9-96a8-95866bb1dd3f"
      },
      "outputs": [
        {
          "output_type": "stream",
          "name": "stdout",
          "text": [
            "Drive already mounted at /content/drive; to attempt to forcibly remount, call drive.mount(\"/content/drive\", force_remount=True).\n"
          ]
        }
      ],
      "source": [
        "#Mounting the Drive\n",
        "from google.colab import drive\n",
        "drive.mount('/content/drive')"
      ]
    },
    {
      "cell_type": "markdown",
      "metadata": {
        "id": "EChlxBRbJf7T"
      },
      "source": [
        "*   Loading the data into the pandas data frame is certainly one of the most important steps in EDA, as we can see that the value from the data set is comma-separated"
      ]
    },
    {
      "cell_type": "code",
      "execution_count": 51,
      "metadata": {
        "id": "KMJVTMtv2fPP"
      },
      "outputs": [],
      "source": [
        "df_yesbank =  pd.read_csv(\"/content/drive/MyDrive/Colab Notebooks/CAPSTONE PROJECT/Yes bank stock closing price prediction - Sameer Satpute/Copy of data_YesBank_StockPrices.csv\")"
      ]
    },
    {
      "cell_type": "code",
      "execution_count": 52,
      "metadata": {
        "id": "7exrGmxW43-A",
        "colab": {
          "base_uri": "https://localhost:8080/"
        },
        "outputId": "11cd0749-b383-4d17-f863-de8c801c6ef4"
      },
      "outputs": [
        {
          "output_type": "execute_result",
          "data": {
            "text/plain": [
              "(185, 5)"
            ]
          },
          "metadata": {},
          "execution_count": 52
        }
      ],
      "source": [
        "#Shape of our dataset\n",
        "df_yesbank.shape"
      ]
    },
    {
      "cell_type": "markdown",
      "metadata": {
        "id": "CGdveGZ-Oh31"
      },
      "source": [
        "\n",
        "\n",
        "## **Knowing the dataset**\n",
        "Dataset contains Yes Bank stock monthly prices since it listed on stock exchange. \n",
        "\n",
        "Following are its features:-\n",
        "\n",
        "* **Date**: In our data its monthly observation of stock since it listed.\n",
        "* **Open**: The price a stock when the stock exchange open for the day.\n",
        "* **High**: The maximum price of a stock attain during given period of time.\n",
        "* **Low**: The minimum price of a stock attain during given period of time.\n",
        "* **Close**: The price of a stock when the stock exchange closed for the day.\n",
        "\n",
        "\n",
        "\n",
        "\n"
      ]
    },
    {
      "cell_type": "code",
      "execution_count": 53,
      "metadata": {
        "id": "hqgGJrcN2y_b",
        "colab": {
          "base_uri": "https://localhost:8080/",
          "height": 206
        },
        "outputId": "07356c66-414c-4d19-e34d-465b7e4345a4"
      },
      "outputs": [
        {
          "output_type": "execute_result",
          "data": {
            "text/plain": [
              "     Date   Open   High    Low  Close\n",
              "0  Jul-05  13.00  14.00  11.25  12.46\n",
              "1  Aug-05  12.58  14.88  12.55  13.42\n",
              "2  Sep-05  13.48  14.87  12.27  13.30\n",
              "3  Oct-05  13.20  14.47  12.40  12.99\n",
              "4  Nov-05  13.35  13.88  12.88  13.41"
            ],
            "text/html": [
              "\n",
              "  <div id=\"df-bd7d4963-af25-44bd-903d-724968d074c7\">\n",
              "    <div class=\"colab-df-container\">\n",
              "      <div>\n",
              "<style scoped>\n",
              "    .dataframe tbody tr th:only-of-type {\n",
              "        vertical-align: middle;\n",
              "    }\n",
              "\n",
              "    .dataframe tbody tr th {\n",
              "        vertical-align: top;\n",
              "    }\n",
              "\n",
              "    .dataframe thead th {\n",
              "        text-align: right;\n",
              "    }\n",
              "</style>\n",
              "<table border=\"1\" class=\"dataframe\">\n",
              "  <thead>\n",
              "    <tr style=\"text-align: right;\">\n",
              "      <th></th>\n",
              "      <th>Date</th>\n",
              "      <th>Open</th>\n",
              "      <th>High</th>\n",
              "      <th>Low</th>\n",
              "      <th>Close</th>\n",
              "    </tr>\n",
              "  </thead>\n",
              "  <tbody>\n",
              "    <tr>\n",
              "      <th>0</th>\n",
              "      <td>Jul-05</td>\n",
              "      <td>13.00</td>\n",
              "      <td>14.00</td>\n",
              "      <td>11.25</td>\n",
              "      <td>12.46</td>\n",
              "    </tr>\n",
              "    <tr>\n",
              "      <th>1</th>\n",
              "      <td>Aug-05</td>\n",
              "      <td>12.58</td>\n",
              "      <td>14.88</td>\n",
              "      <td>12.55</td>\n",
              "      <td>13.42</td>\n",
              "    </tr>\n",
              "    <tr>\n",
              "      <th>2</th>\n",
              "      <td>Sep-05</td>\n",
              "      <td>13.48</td>\n",
              "      <td>14.87</td>\n",
              "      <td>12.27</td>\n",
              "      <td>13.30</td>\n",
              "    </tr>\n",
              "    <tr>\n",
              "      <th>3</th>\n",
              "      <td>Oct-05</td>\n",
              "      <td>13.20</td>\n",
              "      <td>14.47</td>\n",
              "      <td>12.40</td>\n",
              "      <td>12.99</td>\n",
              "    </tr>\n",
              "    <tr>\n",
              "      <th>4</th>\n",
              "      <td>Nov-05</td>\n",
              "      <td>13.35</td>\n",
              "      <td>13.88</td>\n",
              "      <td>12.88</td>\n",
              "      <td>13.41</td>\n",
              "    </tr>\n",
              "  </tbody>\n",
              "</table>\n",
              "</div>\n",
              "      <button class=\"colab-df-convert\" onclick=\"convertToInteractive('df-bd7d4963-af25-44bd-903d-724968d074c7')\"\n",
              "              title=\"Convert this dataframe to an interactive table.\"\n",
              "              style=\"display:none;\">\n",
              "        \n",
              "  <svg xmlns=\"http://www.w3.org/2000/svg\" height=\"24px\"viewBox=\"0 0 24 24\"\n",
              "       width=\"24px\">\n",
              "    <path d=\"M0 0h24v24H0V0z\" fill=\"none\"/>\n",
              "    <path d=\"M18.56 5.44l.94 2.06.94-2.06 2.06-.94-2.06-.94-.94-2.06-.94 2.06-2.06.94zm-11 1L8.5 8.5l.94-2.06 2.06-.94-2.06-.94L8.5 2.5l-.94 2.06-2.06.94zm10 10l.94 2.06.94-2.06 2.06-.94-2.06-.94-.94-2.06-.94 2.06-2.06.94z\"/><path d=\"M17.41 7.96l-1.37-1.37c-.4-.4-.92-.59-1.43-.59-.52 0-1.04.2-1.43.59L10.3 9.45l-7.72 7.72c-.78.78-.78 2.05 0 2.83L4 21.41c.39.39.9.59 1.41.59.51 0 1.02-.2 1.41-.59l7.78-7.78 2.81-2.81c.8-.78.8-2.07 0-2.86zM5.41 20L4 18.59l7.72-7.72 1.47 1.35L5.41 20z\"/>\n",
              "  </svg>\n",
              "      </button>\n",
              "      \n",
              "  <style>\n",
              "    .colab-df-container {\n",
              "      display:flex;\n",
              "      flex-wrap:wrap;\n",
              "      gap: 12px;\n",
              "    }\n",
              "\n",
              "    .colab-df-convert {\n",
              "      background-color: #E8F0FE;\n",
              "      border: none;\n",
              "      border-radius: 50%;\n",
              "      cursor: pointer;\n",
              "      display: none;\n",
              "      fill: #1967D2;\n",
              "      height: 32px;\n",
              "      padding: 0 0 0 0;\n",
              "      width: 32px;\n",
              "    }\n",
              "\n",
              "    .colab-df-convert:hover {\n",
              "      background-color: #E2EBFA;\n",
              "      box-shadow: 0px 1px 2px rgba(60, 64, 67, 0.3), 0px 1px 3px 1px rgba(60, 64, 67, 0.15);\n",
              "      fill: #174EA6;\n",
              "    }\n",
              "\n",
              "    [theme=dark] .colab-df-convert {\n",
              "      background-color: #3B4455;\n",
              "      fill: #D2E3FC;\n",
              "    }\n",
              "\n",
              "    [theme=dark] .colab-df-convert:hover {\n",
              "      background-color: #434B5C;\n",
              "      box-shadow: 0px 1px 3px 1px rgba(0, 0, 0, 0.15);\n",
              "      filter: drop-shadow(0px 1px 2px rgba(0, 0, 0, 0.3));\n",
              "      fill: #FFFFFF;\n",
              "    }\n",
              "  </style>\n",
              "\n",
              "      <script>\n",
              "        const buttonEl =\n",
              "          document.querySelector('#df-bd7d4963-af25-44bd-903d-724968d074c7 button.colab-df-convert');\n",
              "        buttonEl.style.display =\n",
              "          google.colab.kernel.accessAllowed ? 'block' : 'none';\n",
              "\n",
              "        async function convertToInteractive(key) {\n",
              "          const element = document.querySelector('#df-bd7d4963-af25-44bd-903d-724968d074c7');\n",
              "          const dataTable =\n",
              "            await google.colab.kernel.invokeFunction('convertToInteractive',\n",
              "                                                     [key], {});\n",
              "          if (!dataTable) return;\n",
              "\n",
              "          const docLinkHtml = 'Like what you see? Visit the ' +\n",
              "            '<a target=\"_blank\" href=https://colab.research.google.com/notebooks/data_table.ipynb>data table notebook</a>'\n",
              "            + ' to learn more about interactive tables.';\n",
              "          element.innerHTML = '';\n",
              "          dataTable['output_type'] = 'display_data';\n",
              "          await google.colab.output.renderOutput(dataTable, element);\n",
              "          const docLink = document.createElement('div');\n",
              "          docLink.innerHTML = docLinkHtml;\n",
              "          element.appendChild(docLink);\n",
              "        }\n",
              "      </script>\n",
              "    </div>\n",
              "  </div>\n",
              "  "
            ]
          },
          "metadata": {},
          "execution_count": 53
        }
      ],
      "source": [
        "#checking first five values of our dataset\n",
        "df_yesbank.head()"
      ]
    },
    {
      "cell_type": "code",
      "execution_count": 54,
      "metadata": {
        "id": "vqYzo-8g22AQ",
        "colab": {
          "base_uri": "https://localhost:8080/",
          "height": 206
        },
        "outputId": "943de743-467a-44a7-b142-2d0f7eb04e9e"
      },
      "outputs": [
        {
          "output_type": "execute_result",
          "data": {
            "text/plain": [
              "       Date   Open   High    Low  Close\n",
              "180  Jul-20  25.60  28.30  11.10  11.95\n",
              "181  Aug-20  12.00  17.16  11.85  14.37\n",
              "182  Sep-20  14.30  15.34  12.75  13.15\n",
              "183  Oct-20  13.30  14.01  12.11  12.42\n",
              "184  Nov-20  12.41  14.90  12.21  14.67"
            ],
            "text/html": [
              "\n",
              "  <div id=\"df-6715a5f9-cdbd-4491-a170-a3dbd53b9685\">\n",
              "    <div class=\"colab-df-container\">\n",
              "      <div>\n",
              "<style scoped>\n",
              "    .dataframe tbody tr th:only-of-type {\n",
              "        vertical-align: middle;\n",
              "    }\n",
              "\n",
              "    .dataframe tbody tr th {\n",
              "        vertical-align: top;\n",
              "    }\n",
              "\n",
              "    .dataframe thead th {\n",
              "        text-align: right;\n",
              "    }\n",
              "</style>\n",
              "<table border=\"1\" class=\"dataframe\">\n",
              "  <thead>\n",
              "    <tr style=\"text-align: right;\">\n",
              "      <th></th>\n",
              "      <th>Date</th>\n",
              "      <th>Open</th>\n",
              "      <th>High</th>\n",
              "      <th>Low</th>\n",
              "      <th>Close</th>\n",
              "    </tr>\n",
              "  </thead>\n",
              "  <tbody>\n",
              "    <tr>\n",
              "      <th>180</th>\n",
              "      <td>Jul-20</td>\n",
              "      <td>25.60</td>\n",
              "      <td>28.30</td>\n",
              "      <td>11.10</td>\n",
              "      <td>11.95</td>\n",
              "    </tr>\n",
              "    <tr>\n",
              "      <th>181</th>\n",
              "      <td>Aug-20</td>\n",
              "      <td>12.00</td>\n",
              "      <td>17.16</td>\n",
              "      <td>11.85</td>\n",
              "      <td>14.37</td>\n",
              "    </tr>\n",
              "    <tr>\n",
              "      <th>182</th>\n",
              "      <td>Sep-20</td>\n",
              "      <td>14.30</td>\n",
              "      <td>15.34</td>\n",
              "      <td>12.75</td>\n",
              "      <td>13.15</td>\n",
              "    </tr>\n",
              "    <tr>\n",
              "      <th>183</th>\n",
              "      <td>Oct-20</td>\n",
              "      <td>13.30</td>\n",
              "      <td>14.01</td>\n",
              "      <td>12.11</td>\n",
              "      <td>12.42</td>\n",
              "    </tr>\n",
              "    <tr>\n",
              "      <th>184</th>\n",
              "      <td>Nov-20</td>\n",
              "      <td>12.41</td>\n",
              "      <td>14.90</td>\n",
              "      <td>12.21</td>\n",
              "      <td>14.67</td>\n",
              "    </tr>\n",
              "  </tbody>\n",
              "</table>\n",
              "</div>\n",
              "      <button class=\"colab-df-convert\" onclick=\"convertToInteractive('df-6715a5f9-cdbd-4491-a170-a3dbd53b9685')\"\n",
              "              title=\"Convert this dataframe to an interactive table.\"\n",
              "              style=\"display:none;\">\n",
              "        \n",
              "  <svg xmlns=\"http://www.w3.org/2000/svg\" height=\"24px\"viewBox=\"0 0 24 24\"\n",
              "       width=\"24px\">\n",
              "    <path d=\"M0 0h24v24H0V0z\" fill=\"none\"/>\n",
              "    <path d=\"M18.56 5.44l.94 2.06.94-2.06 2.06-.94-2.06-.94-.94-2.06-.94 2.06-2.06.94zm-11 1L8.5 8.5l.94-2.06 2.06-.94-2.06-.94L8.5 2.5l-.94 2.06-2.06.94zm10 10l.94 2.06.94-2.06 2.06-.94-2.06-.94-.94-2.06-.94 2.06-2.06.94z\"/><path d=\"M17.41 7.96l-1.37-1.37c-.4-.4-.92-.59-1.43-.59-.52 0-1.04.2-1.43.59L10.3 9.45l-7.72 7.72c-.78.78-.78 2.05 0 2.83L4 21.41c.39.39.9.59 1.41.59.51 0 1.02-.2 1.41-.59l7.78-7.78 2.81-2.81c.8-.78.8-2.07 0-2.86zM5.41 20L4 18.59l7.72-7.72 1.47 1.35L5.41 20z\"/>\n",
              "  </svg>\n",
              "      </button>\n",
              "      \n",
              "  <style>\n",
              "    .colab-df-container {\n",
              "      display:flex;\n",
              "      flex-wrap:wrap;\n",
              "      gap: 12px;\n",
              "    }\n",
              "\n",
              "    .colab-df-convert {\n",
              "      background-color: #E8F0FE;\n",
              "      border: none;\n",
              "      border-radius: 50%;\n",
              "      cursor: pointer;\n",
              "      display: none;\n",
              "      fill: #1967D2;\n",
              "      height: 32px;\n",
              "      padding: 0 0 0 0;\n",
              "      width: 32px;\n",
              "    }\n",
              "\n",
              "    .colab-df-convert:hover {\n",
              "      background-color: #E2EBFA;\n",
              "      box-shadow: 0px 1px 2px rgba(60, 64, 67, 0.3), 0px 1px 3px 1px rgba(60, 64, 67, 0.15);\n",
              "      fill: #174EA6;\n",
              "    }\n",
              "\n",
              "    [theme=dark] .colab-df-convert {\n",
              "      background-color: #3B4455;\n",
              "      fill: #D2E3FC;\n",
              "    }\n",
              "\n",
              "    [theme=dark] .colab-df-convert:hover {\n",
              "      background-color: #434B5C;\n",
              "      box-shadow: 0px 1px 3px 1px rgba(0, 0, 0, 0.15);\n",
              "      filter: drop-shadow(0px 1px 2px rgba(0, 0, 0, 0.3));\n",
              "      fill: #FFFFFF;\n",
              "    }\n",
              "  </style>\n",
              "\n",
              "      <script>\n",
              "        const buttonEl =\n",
              "          document.querySelector('#df-6715a5f9-cdbd-4491-a170-a3dbd53b9685 button.colab-df-convert');\n",
              "        buttonEl.style.display =\n",
              "          google.colab.kernel.accessAllowed ? 'block' : 'none';\n",
              "\n",
              "        async function convertToInteractive(key) {\n",
              "          const element = document.querySelector('#df-6715a5f9-cdbd-4491-a170-a3dbd53b9685');\n",
              "          const dataTable =\n",
              "            await google.colab.kernel.invokeFunction('convertToInteractive',\n",
              "                                                     [key], {});\n",
              "          if (!dataTable) return;\n",
              "\n",
              "          const docLinkHtml = 'Like what you see? Visit the ' +\n",
              "            '<a target=\"_blank\" href=https://colab.research.google.com/notebooks/data_table.ipynb>data table notebook</a>'\n",
              "            + ' to learn more about interactive tables.';\n",
              "          element.innerHTML = '';\n",
              "          dataTable['output_type'] = 'display_data';\n",
              "          await google.colab.output.renderOutput(dataTable, element);\n",
              "          const docLink = document.createElement('div');\n",
              "          docLink.innerHTML = docLinkHtml;\n",
              "          element.appendChild(docLink);\n",
              "        }\n",
              "      </script>\n",
              "    </div>\n",
              "  </div>\n",
              "  "
            ]
          },
          "metadata": {},
          "execution_count": 54
        }
      ],
      "source": [
        "#Checking last five values  of our dataset\n",
        "df_yesbank.tail()"
      ]
    },
    {
      "cell_type": "code",
      "execution_count": 55,
      "metadata": {
        "id": "iGQ4BbG63COy",
        "colab": {
          "base_uri": "https://localhost:8080/"
        },
        "outputId": "294a3f69-07a7-4cdb-aa7b-ecd9304c6517"
      },
      "outputs": [
        {
          "output_type": "stream",
          "name": "stdout",
          "text": [
            "<class 'pandas.core.frame.DataFrame'>\n",
            "RangeIndex: 185 entries, 0 to 184\n",
            "Data columns (total 5 columns):\n",
            " #   Column  Non-Null Count  Dtype  \n",
            "---  ------  --------------  -----  \n",
            " 0   Date    185 non-null    object \n",
            " 1   Open    185 non-null    float64\n",
            " 2   High    185 non-null    float64\n",
            " 3   Low     185 non-null    float64\n",
            " 4   Close   185 non-null    float64\n",
            "dtypes: float64(4), object(1)\n",
            "memory usage: 7.4+ KB\n"
          ]
        }
      ],
      "source": [
        "#Getting the concise summary of data\n",
        "df_yesbank.info()"
      ]
    },
    {
      "cell_type": "markdown",
      "metadata": {
        "id": "1IJ1HqrCJsni"
      },
      "source": [
        "From above we can conclude that:\n",
        "\n",
        "\n",
        "1.   The shape of our dataset is 185 rows and 5 columns\n",
        "2.   Datatype of Date is given as object which we need to change that to DateTime\n",
        "3.  Yes bank stock listed on month of july 2005.We have data available from july 2005 to november 2020\n",
        "\n"
      ]
    },
    {
      "cell_type": "markdown",
      "metadata": {
        "id": "txg_MMNaLAlw"
      },
      "source": [
        "### **Gettting Statistical Information about our dataset**"
      ]
    },
    {
      "cell_type": "code",
      "execution_count": 56,
      "metadata": {
        "id": "m6jWJ7553ZMm",
        "colab": {
          "base_uri": "https://localhost:8080/",
          "height": 394
        },
        "outputId": "d2937d81-17c1-49fa-947f-cea1b1088090"
      },
      "outputs": [
        {
          "output_type": "execute_result",
          "data": {
            "text/plain": [
              "          Date        Open        High         Low       Close\n",
              "count      185  185.000000  185.000000  185.000000  185.000000\n",
              "unique     185         NaN         NaN         NaN         NaN\n",
              "top     Jul-05         NaN         NaN         NaN         NaN\n",
              "freq         1         NaN         NaN         NaN         NaN\n",
              "mean       NaN  105.541405  116.104324   94.947838  105.204703\n",
              "std        NaN   98.879850  106.333497   91.219415   98.583153\n",
              "min        NaN   10.000000   11.240000    5.550000    9.980000\n",
              "25%        NaN   33.800000   36.140000   28.510000   33.450000\n",
              "50%        NaN   62.980000   72.550000   58.000000   62.540000\n",
              "75%        NaN  153.000000  169.190000  138.350000  153.300000\n",
              "max        NaN  369.950000  404.000000  345.500000  367.900000"
            ],
            "text/html": [
              "\n",
              "  <div id=\"df-908634b8-49b0-49db-817f-2ce7a58f4fee\">\n",
              "    <div class=\"colab-df-container\">\n",
              "      <div>\n",
              "<style scoped>\n",
              "    .dataframe tbody tr th:only-of-type {\n",
              "        vertical-align: middle;\n",
              "    }\n",
              "\n",
              "    .dataframe tbody tr th {\n",
              "        vertical-align: top;\n",
              "    }\n",
              "\n",
              "    .dataframe thead th {\n",
              "        text-align: right;\n",
              "    }\n",
              "</style>\n",
              "<table border=\"1\" class=\"dataframe\">\n",
              "  <thead>\n",
              "    <tr style=\"text-align: right;\">\n",
              "      <th></th>\n",
              "      <th>Date</th>\n",
              "      <th>Open</th>\n",
              "      <th>High</th>\n",
              "      <th>Low</th>\n",
              "      <th>Close</th>\n",
              "    </tr>\n",
              "  </thead>\n",
              "  <tbody>\n",
              "    <tr>\n",
              "      <th>count</th>\n",
              "      <td>185</td>\n",
              "      <td>185.000000</td>\n",
              "      <td>185.000000</td>\n",
              "      <td>185.000000</td>\n",
              "      <td>185.000000</td>\n",
              "    </tr>\n",
              "    <tr>\n",
              "      <th>unique</th>\n",
              "      <td>185</td>\n",
              "      <td>NaN</td>\n",
              "      <td>NaN</td>\n",
              "      <td>NaN</td>\n",
              "      <td>NaN</td>\n",
              "    </tr>\n",
              "    <tr>\n",
              "      <th>top</th>\n",
              "      <td>Jul-05</td>\n",
              "      <td>NaN</td>\n",
              "      <td>NaN</td>\n",
              "      <td>NaN</td>\n",
              "      <td>NaN</td>\n",
              "    </tr>\n",
              "    <tr>\n",
              "      <th>freq</th>\n",
              "      <td>1</td>\n",
              "      <td>NaN</td>\n",
              "      <td>NaN</td>\n",
              "      <td>NaN</td>\n",
              "      <td>NaN</td>\n",
              "    </tr>\n",
              "    <tr>\n",
              "      <th>mean</th>\n",
              "      <td>NaN</td>\n",
              "      <td>105.541405</td>\n",
              "      <td>116.104324</td>\n",
              "      <td>94.947838</td>\n",
              "      <td>105.204703</td>\n",
              "    </tr>\n",
              "    <tr>\n",
              "      <th>std</th>\n",
              "      <td>NaN</td>\n",
              "      <td>98.879850</td>\n",
              "      <td>106.333497</td>\n",
              "      <td>91.219415</td>\n",
              "      <td>98.583153</td>\n",
              "    </tr>\n",
              "    <tr>\n",
              "      <th>min</th>\n",
              "      <td>NaN</td>\n",
              "      <td>10.000000</td>\n",
              "      <td>11.240000</td>\n",
              "      <td>5.550000</td>\n",
              "      <td>9.980000</td>\n",
              "    </tr>\n",
              "    <tr>\n",
              "      <th>25%</th>\n",
              "      <td>NaN</td>\n",
              "      <td>33.800000</td>\n",
              "      <td>36.140000</td>\n",
              "      <td>28.510000</td>\n",
              "      <td>33.450000</td>\n",
              "    </tr>\n",
              "    <tr>\n",
              "      <th>50%</th>\n",
              "      <td>NaN</td>\n",
              "      <td>62.980000</td>\n",
              "      <td>72.550000</td>\n",
              "      <td>58.000000</td>\n",
              "      <td>62.540000</td>\n",
              "    </tr>\n",
              "    <tr>\n",
              "      <th>75%</th>\n",
              "      <td>NaN</td>\n",
              "      <td>153.000000</td>\n",
              "      <td>169.190000</td>\n",
              "      <td>138.350000</td>\n",
              "      <td>153.300000</td>\n",
              "    </tr>\n",
              "    <tr>\n",
              "      <th>max</th>\n",
              "      <td>NaN</td>\n",
              "      <td>369.950000</td>\n",
              "      <td>404.000000</td>\n",
              "      <td>345.500000</td>\n",
              "      <td>367.900000</td>\n",
              "    </tr>\n",
              "  </tbody>\n",
              "</table>\n",
              "</div>\n",
              "      <button class=\"colab-df-convert\" onclick=\"convertToInteractive('df-908634b8-49b0-49db-817f-2ce7a58f4fee')\"\n",
              "              title=\"Convert this dataframe to an interactive table.\"\n",
              "              style=\"display:none;\">\n",
              "        \n",
              "  <svg xmlns=\"http://www.w3.org/2000/svg\" height=\"24px\"viewBox=\"0 0 24 24\"\n",
              "       width=\"24px\">\n",
              "    <path d=\"M0 0h24v24H0V0z\" fill=\"none\"/>\n",
              "    <path d=\"M18.56 5.44l.94 2.06.94-2.06 2.06-.94-2.06-.94-.94-2.06-.94 2.06-2.06.94zm-11 1L8.5 8.5l.94-2.06 2.06-.94-2.06-.94L8.5 2.5l-.94 2.06-2.06.94zm10 10l.94 2.06.94-2.06 2.06-.94-2.06-.94-.94-2.06-.94 2.06-2.06.94z\"/><path d=\"M17.41 7.96l-1.37-1.37c-.4-.4-.92-.59-1.43-.59-.52 0-1.04.2-1.43.59L10.3 9.45l-7.72 7.72c-.78.78-.78 2.05 0 2.83L4 21.41c.39.39.9.59 1.41.59.51 0 1.02-.2 1.41-.59l7.78-7.78 2.81-2.81c.8-.78.8-2.07 0-2.86zM5.41 20L4 18.59l7.72-7.72 1.47 1.35L5.41 20z\"/>\n",
              "  </svg>\n",
              "      </button>\n",
              "      \n",
              "  <style>\n",
              "    .colab-df-container {\n",
              "      display:flex;\n",
              "      flex-wrap:wrap;\n",
              "      gap: 12px;\n",
              "    }\n",
              "\n",
              "    .colab-df-convert {\n",
              "      background-color: #E8F0FE;\n",
              "      border: none;\n",
              "      border-radius: 50%;\n",
              "      cursor: pointer;\n",
              "      display: none;\n",
              "      fill: #1967D2;\n",
              "      height: 32px;\n",
              "      padding: 0 0 0 0;\n",
              "      width: 32px;\n",
              "    }\n",
              "\n",
              "    .colab-df-convert:hover {\n",
              "      background-color: #E2EBFA;\n",
              "      box-shadow: 0px 1px 2px rgba(60, 64, 67, 0.3), 0px 1px 3px 1px rgba(60, 64, 67, 0.15);\n",
              "      fill: #174EA6;\n",
              "    }\n",
              "\n",
              "    [theme=dark] .colab-df-convert {\n",
              "      background-color: #3B4455;\n",
              "      fill: #D2E3FC;\n",
              "    }\n",
              "\n",
              "    [theme=dark] .colab-df-convert:hover {\n",
              "      background-color: #434B5C;\n",
              "      box-shadow: 0px 1px 3px 1px rgba(0, 0, 0, 0.15);\n",
              "      filter: drop-shadow(0px 1px 2px rgba(0, 0, 0, 0.3));\n",
              "      fill: #FFFFFF;\n",
              "    }\n",
              "  </style>\n",
              "\n",
              "      <script>\n",
              "        const buttonEl =\n",
              "          document.querySelector('#df-908634b8-49b0-49db-817f-2ce7a58f4fee button.colab-df-convert');\n",
              "        buttonEl.style.display =\n",
              "          google.colab.kernel.accessAllowed ? 'block' : 'none';\n",
              "\n",
              "        async function convertToInteractive(key) {\n",
              "          const element = document.querySelector('#df-908634b8-49b0-49db-817f-2ce7a58f4fee');\n",
              "          const dataTable =\n",
              "            await google.colab.kernel.invokeFunction('convertToInteractive',\n",
              "                                                     [key], {});\n",
              "          if (!dataTable) return;\n",
              "\n",
              "          const docLinkHtml = 'Like what you see? Visit the ' +\n",
              "            '<a target=\"_blank\" href=https://colab.research.google.com/notebooks/data_table.ipynb>data table notebook</a>'\n",
              "            + ' to learn more about interactive tables.';\n",
              "          element.innerHTML = '';\n",
              "          dataTable['output_type'] = 'display_data';\n",
              "          await google.colab.output.renderOutput(dataTable, element);\n",
              "          const docLink = document.createElement('div');\n",
              "          docLink.innerHTML = docLinkHtml;\n",
              "          element.appendChild(docLink);\n",
              "        }\n",
              "      </script>\n",
              "    </div>\n",
              "  </div>\n",
              "  "
            ]
          },
          "metadata": {},
          "execution_count": 56
        }
      ],
      "source": [
        "# Getting some statistical information\n",
        "df_yesbank.describe(include='all')"
      ]
    },
    {
      "cell_type": "markdown",
      "metadata": {
        "id": "idYpLb5aLNAq"
      },
      "source": [
        "From above statistical information we can see that it is not a normal distribution as mean and 50% values are having alot of difference"
      ]
    },
    {
      "cell_type": "markdown",
      "metadata": {
        "id": "gaTEngf0MSCT"
      },
      "source": [
        "## **DATA CLEANING**"
      ]
    },
    {
      "cell_type": "markdown",
      "metadata": {
        "id": "2q9_2Hy6MIIL"
      },
      "source": [
        "In data cleaning we will check for:\n",
        "\n",
        "\n",
        "1.   Null values/NaN values\n",
        "2.   Duplicates \n",
        "3.   Outlier Detection"
      ]
    },
    {
      "cell_type": "code",
      "execution_count": 57,
      "metadata": {
        "id": "waZZ72rd3rPB",
        "colab": {
          "base_uri": "https://localhost:8080/"
        },
        "outputId": "069635c8-44d9-4820-a200-5bdde5417f6b"
      },
      "outputs": [
        {
          "output_type": "execute_result",
          "data": {
            "text/plain": [
              "0"
            ]
          },
          "metadata": {},
          "execution_count": 57
        }
      ],
      "source": [
        "#Check for duplicate values\n",
        "len(df_yesbank[df_yesbank.duplicated()])"
      ]
    },
    {
      "cell_type": "code",
      "execution_count": 58,
      "metadata": {
        "id": "DOx4C_wG4FTf",
        "colab": {
          "base_uri": "https://localhost:8080/"
        },
        "outputId": "d3abf5fd-6421-480b-9435-83b7a5725d27"
      },
      "outputs": [
        {
          "output_type": "execute_result",
          "data": {
            "text/plain": [
              "Index(['Date', 'Open', 'High', 'Low', 'Close'], dtype='object')"
            ]
          },
          "metadata": {},
          "execution_count": 58
        }
      ],
      "source": [
        "#Check the columns present in dataset\n",
        "df_yesbank.columns"
      ]
    },
    {
      "cell_type": "code",
      "execution_count": 59,
      "metadata": {
        "id": "9zFybvCM6BaY",
        "colab": {
          "base_uri": "https://localhost:8080/"
        },
        "outputId": "ca2f6081-04b3-411f-dbee-77251a1e6c49"
      },
      "outputs": [
        {
          "output_type": "execute_result",
          "data": {
            "text/plain": [
              "Date     0\n",
              "Open     0\n",
              "High     0\n",
              "Low      0\n",
              "Close    0\n",
              "dtype: int64"
            ]
          },
          "metadata": {},
          "execution_count": 59
        }
      ],
      "source": [
        "#Check for null values in dataset\n",
        "df_yesbank.isnull().sum()"
      ]
    },
    {
      "cell_type": "markdown",
      "metadata": {
        "id": "hiNc4cA2MoSF"
      },
      "source": [
        "## **Data Type Correction**"
      ]
    },
    {
      "cell_type": "code",
      "execution_count": 60,
      "metadata": {
        "id": "MMdlcGWZ4Ui8"
      },
      "outputs": [],
      "source": [
        "#Changing date colunn datatype to datetime format.\n",
        "from datetime import datetime\n",
        "\n",
        "#parsing date which is string of format %b-%y to datetime (%b for Month as locale’s abbreviated name and %y for Year without century as a zero-padded decimal number.\n",
        "df_yesbank['Date'] = df_yesbank['Date'].apply(lambda x: datetime.strptime(x, '%b-%y'))"
      ]
    },
    {
      "cell_type": "code",
      "execution_count": 61,
      "metadata": {
        "id": "AkG0PDv-5UtX",
        "colab": {
          "base_uri": "https://localhost:8080/"
        },
        "outputId": "27a6901d-1b62-41b6-fa68-98dd72f3b8bc"
      },
      "outputs": [
        {
          "output_type": "execute_result",
          "data": {
            "text/plain": [
              "Date     datetime64[ns]\n",
              "Open            float64\n",
              "High            float64\n",
              "Low             float64\n",
              "Close           float64\n",
              "dtype: object"
            ]
          },
          "metadata": {},
          "execution_count": 61
        }
      ],
      "source": [
        "#Check the datatype of the columns after changing datatype of date\n",
        "df_yesbank.dtypes"
      ]
    },
    {
      "cell_type": "markdown",
      "metadata": {
        "id": "X72AfFveEKw7"
      },
      "source": [
        "-----YES!!! datatype change into reqiured format"
      ]
    },
    {
      "cell_type": "code",
      "execution_count": 62,
      "metadata": {
        "id": "PoUjYKhx6uWl",
        "colab": {
          "base_uri": "https://localhost:8080/",
          "height": 206
        },
        "outputId": "084cc1e2-3cd2-4542-d76c-17f4a615c59a"
      },
      "outputs": [
        {
          "output_type": "execute_result",
          "data": {
            "text/plain": [
              "        Date   Open   High    Low  Close\n",
              "0 2005-07-01  13.00  14.00  11.25  12.46\n",
              "1 2005-08-01  12.58  14.88  12.55  13.42\n",
              "2 2005-09-01  13.48  14.87  12.27  13.30\n",
              "3 2005-10-01  13.20  14.47  12.40  12.99\n",
              "4 2005-11-01  13.35  13.88  12.88  13.41"
            ],
            "text/html": [
              "\n",
              "  <div id=\"df-c2de16b6-5145-415c-8b3e-8881225bf4b8\">\n",
              "    <div class=\"colab-df-container\">\n",
              "      <div>\n",
              "<style scoped>\n",
              "    .dataframe tbody tr th:only-of-type {\n",
              "        vertical-align: middle;\n",
              "    }\n",
              "\n",
              "    .dataframe tbody tr th {\n",
              "        vertical-align: top;\n",
              "    }\n",
              "\n",
              "    .dataframe thead th {\n",
              "        text-align: right;\n",
              "    }\n",
              "</style>\n",
              "<table border=\"1\" class=\"dataframe\">\n",
              "  <thead>\n",
              "    <tr style=\"text-align: right;\">\n",
              "      <th></th>\n",
              "      <th>Date</th>\n",
              "      <th>Open</th>\n",
              "      <th>High</th>\n",
              "      <th>Low</th>\n",
              "      <th>Close</th>\n",
              "    </tr>\n",
              "  </thead>\n",
              "  <tbody>\n",
              "    <tr>\n",
              "      <th>0</th>\n",
              "      <td>2005-07-01</td>\n",
              "      <td>13.00</td>\n",
              "      <td>14.00</td>\n",
              "      <td>11.25</td>\n",
              "      <td>12.46</td>\n",
              "    </tr>\n",
              "    <tr>\n",
              "      <th>1</th>\n",
              "      <td>2005-08-01</td>\n",
              "      <td>12.58</td>\n",
              "      <td>14.88</td>\n",
              "      <td>12.55</td>\n",
              "      <td>13.42</td>\n",
              "    </tr>\n",
              "    <tr>\n",
              "      <th>2</th>\n",
              "      <td>2005-09-01</td>\n",
              "      <td>13.48</td>\n",
              "      <td>14.87</td>\n",
              "      <td>12.27</td>\n",
              "      <td>13.30</td>\n",
              "    </tr>\n",
              "    <tr>\n",
              "      <th>3</th>\n",
              "      <td>2005-10-01</td>\n",
              "      <td>13.20</td>\n",
              "      <td>14.47</td>\n",
              "      <td>12.40</td>\n",
              "      <td>12.99</td>\n",
              "    </tr>\n",
              "    <tr>\n",
              "      <th>4</th>\n",
              "      <td>2005-11-01</td>\n",
              "      <td>13.35</td>\n",
              "      <td>13.88</td>\n",
              "      <td>12.88</td>\n",
              "      <td>13.41</td>\n",
              "    </tr>\n",
              "  </tbody>\n",
              "</table>\n",
              "</div>\n",
              "      <button class=\"colab-df-convert\" onclick=\"convertToInteractive('df-c2de16b6-5145-415c-8b3e-8881225bf4b8')\"\n",
              "              title=\"Convert this dataframe to an interactive table.\"\n",
              "              style=\"display:none;\">\n",
              "        \n",
              "  <svg xmlns=\"http://www.w3.org/2000/svg\" height=\"24px\"viewBox=\"0 0 24 24\"\n",
              "       width=\"24px\">\n",
              "    <path d=\"M0 0h24v24H0V0z\" fill=\"none\"/>\n",
              "    <path d=\"M18.56 5.44l.94 2.06.94-2.06 2.06-.94-2.06-.94-.94-2.06-.94 2.06-2.06.94zm-11 1L8.5 8.5l.94-2.06 2.06-.94-2.06-.94L8.5 2.5l-.94 2.06-2.06.94zm10 10l.94 2.06.94-2.06 2.06-.94-2.06-.94-.94-2.06-.94 2.06-2.06.94z\"/><path d=\"M17.41 7.96l-1.37-1.37c-.4-.4-.92-.59-1.43-.59-.52 0-1.04.2-1.43.59L10.3 9.45l-7.72 7.72c-.78.78-.78 2.05 0 2.83L4 21.41c.39.39.9.59 1.41.59.51 0 1.02-.2 1.41-.59l7.78-7.78 2.81-2.81c.8-.78.8-2.07 0-2.86zM5.41 20L4 18.59l7.72-7.72 1.47 1.35L5.41 20z\"/>\n",
              "  </svg>\n",
              "      </button>\n",
              "      \n",
              "  <style>\n",
              "    .colab-df-container {\n",
              "      display:flex;\n",
              "      flex-wrap:wrap;\n",
              "      gap: 12px;\n",
              "    }\n",
              "\n",
              "    .colab-df-convert {\n",
              "      background-color: #E8F0FE;\n",
              "      border: none;\n",
              "      border-radius: 50%;\n",
              "      cursor: pointer;\n",
              "      display: none;\n",
              "      fill: #1967D2;\n",
              "      height: 32px;\n",
              "      padding: 0 0 0 0;\n",
              "      width: 32px;\n",
              "    }\n",
              "\n",
              "    .colab-df-convert:hover {\n",
              "      background-color: #E2EBFA;\n",
              "      box-shadow: 0px 1px 2px rgba(60, 64, 67, 0.3), 0px 1px 3px 1px rgba(60, 64, 67, 0.15);\n",
              "      fill: #174EA6;\n",
              "    }\n",
              "\n",
              "    [theme=dark] .colab-df-convert {\n",
              "      background-color: #3B4455;\n",
              "      fill: #D2E3FC;\n",
              "    }\n",
              "\n",
              "    [theme=dark] .colab-df-convert:hover {\n",
              "      background-color: #434B5C;\n",
              "      box-shadow: 0px 1px 3px 1px rgba(0, 0, 0, 0.15);\n",
              "      filter: drop-shadow(0px 1px 2px rgba(0, 0, 0, 0.3));\n",
              "      fill: #FFFFFF;\n",
              "    }\n",
              "  </style>\n",
              "\n",
              "      <script>\n",
              "        const buttonEl =\n",
              "          document.querySelector('#df-c2de16b6-5145-415c-8b3e-8881225bf4b8 button.colab-df-convert');\n",
              "        buttonEl.style.display =\n",
              "          google.colab.kernel.accessAllowed ? 'block' : 'none';\n",
              "\n",
              "        async function convertToInteractive(key) {\n",
              "          const element = document.querySelector('#df-c2de16b6-5145-415c-8b3e-8881225bf4b8');\n",
              "          const dataTable =\n",
              "            await google.colab.kernel.invokeFunction('convertToInteractive',\n",
              "                                                     [key], {});\n",
              "          if (!dataTable) return;\n",
              "\n",
              "          const docLinkHtml = 'Like what you see? Visit the ' +\n",
              "            '<a target=\"_blank\" href=https://colab.research.google.com/notebooks/data_table.ipynb>data table notebook</a>'\n",
              "            + ' to learn more about interactive tables.';\n",
              "          element.innerHTML = '';\n",
              "          dataTable['output_type'] = 'display_data';\n",
              "          await google.colab.output.renderOutput(dataTable, element);\n",
              "          const docLink = document.createElement('div');\n",
              "          docLink.innerHTML = docLinkHtml;\n",
              "          element.appendChild(docLink);\n",
              "        }\n",
              "      </script>\n",
              "    </div>\n",
              "  </div>\n",
              "  "
            ]
          },
          "metadata": {},
          "execution_count": 62
        }
      ],
      "source": [
        "df_yesbank.head()"
      ]
    },
    {
      "cell_type": "code",
      "execution_count": 63,
      "metadata": {
        "id": "XOup4o3AG9FF",
        "colab": {
          "base_uri": "https://localhost:8080/",
          "height": 206
        },
        "outputId": "c908a903-9897-4946-b714-1cceac19f4b6"
      },
      "outputs": [
        {
          "output_type": "execute_result",
          "data": {
            "text/plain": [
              "          Date   Open   High    Low  Close\n",
              "180 2020-07-01  25.60  28.30  11.10  11.95\n",
              "181 2020-08-01  12.00  17.16  11.85  14.37\n",
              "182 2020-09-01  14.30  15.34  12.75  13.15\n",
              "183 2020-10-01  13.30  14.01  12.11  12.42\n",
              "184 2020-11-01  12.41  14.90  12.21  14.67"
            ],
            "text/html": [
              "\n",
              "  <div id=\"df-ce76d354-72d5-4163-ae4c-c26aaff4a32c\">\n",
              "    <div class=\"colab-df-container\">\n",
              "      <div>\n",
              "<style scoped>\n",
              "    .dataframe tbody tr th:only-of-type {\n",
              "        vertical-align: middle;\n",
              "    }\n",
              "\n",
              "    .dataframe tbody tr th {\n",
              "        vertical-align: top;\n",
              "    }\n",
              "\n",
              "    .dataframe thead th {\n",
              "        text-align: right;\n",
              "    }\n",
              "</style>\n",
              "<table border=\"1\" class=\"dataframe\">\n",
              "  <thead>\n",
              "    <tr style=\"text-align: right;\">\n",
              "      <th></th>\n",
              "      <th>Date</th>\n",
              "      <th>Open</th>\n",
              "      <th>High</th>\n",
              "      <th>Low</th>\n",
              "      <th>Close</th>\n",
              "    </tr>\n",
              "  </thead>\n",
              "  <tbody>\n",
              "    <tr>\n",
              "      <th>180</th>\n",
              "      <td>2020-07-01</td>\n",
              "      <td>25.60</td>\n",
              "      <td>28.30</td>\n",
              "      <td>11.10</td>\n",
              "      <td>11.95</td>\n",
              "    </tr>\n",
              "    <tr>\n",
              "      <th>181</th>\n",
              "      <td>2020-08-01</td>\n",
              "      <td>12.00</td>\n",
              "      <td>17.16</td>\n",
              "      <td>11.85</td>\n",
              "      <td>14.37</td>\n",
              "    </tr>\n",
              "    <tr>\n",
              "      <th>182</th>\n",
              "      <td>2020-09-01</td>\n",
              "      <td>14.30</td>\n",
              "      <td>15.34</td>\n",
              "      <td>12.75</td>\n",
              "      <td>13.15</td>\n",
              "    </tr>\n",
              "    <tr>\n",
              "      <th>183</th>\n",
              "      <td>2020-10-01</td>\n",
              "      <td>13.30</td>\n",
              "      <td>14.01</td>\n",
              "      <td>12.11</td>\n",
              "      <td>12.42</td>\n",
              "    </tr>\n",
              "    <tr>\n",
              "      <th>184</th>\n",
              "      <td>2020-11-01</td>\n",
              "      <td>12.41</td>\n",
              "      <td>14.90</td>\n",
              "      <td>12.21</td>\n",
              "      <td>14.67</td>\n",
              "    </tr>\n",
              "  </tbody>\n",
              "</table>\n",
              "</div>\n",
              "      <button class=\"colab-df-convert\" onclick=\"convertToInteractive('df-ce76d354-72d5-4163-ae4c-c26aaff4a32c')\"\n",
              "              title=\"Convert this dataframe to an interactive table.\"\n",
              "              style=\"display:none;\">\n",
              "        \n",
              "  <svg xmlns=\"http://www.w3.org/2000/svg\" height=\"24px\"viewBox=\"0 0 24 24\"\n",
              "       width=\"24px\">\n",
              "    <path d=\"M0 0h24v24H0V0z\" fill=\"none\"/>\n",
              "    <path d=\"M18.56 5.44l.94 2.06.94-2.06 2.06-.94-2.06-.94-.94-2.06-.94 2.06-2.06.94zm-11 1L8.5 8.5l.94-2.06 2.06-.94-2.06-.94L8.5 2.5l-.94 2.06-2.06.94zm10 10l.94 2.06.94-2.06 2.06-.94-2.06-.94-.94-2.06-.94 2.06-2.06.94z\"/><path d=\"M17.41 7.96l-1.37-1.37c-.4-.4-.92-.59-1.43-.59-.52 0-1.04.2-1.43.59L10.3 9.45l-7.72 7.72c-.78.78-.78 2.05 0 2.83L4 21.41c.39.39.9.59 1.41.59.51 0 1.02-.2 1.41-.59l7.78-7.78 2.81-2.81c.8-.78.8-2.07 0-2.86zM5.41 20L4 18.59l7.72-7.72 1.47 1.35L5.41 20z\"/>\n",
              "  </svg>\n",
              "      </button>\n",
              "      \n",
              "  <style>\n",
              "    .colab-df-container {\n",
              "      display:flex;\n",
              "      flex-wrap:wrap;\n",
              "      gap: 12px;\n",
              "    }\n",
              "\n",
              "    .colab-df-convert {\n",
              "      background-color: #E8F0FE;\n",
              "      border: none;\n",
              "      border-radius: 50%;\n",
              "      cursor: pointer;\n",
              "      display: none;\n",
              "      fill: #1967D2;\n",
              "      height: 32px;\n",
              "      padding: 0 0 0 0;\n",
              "      width: 32px;\n",
              "    }\n",
              "\n",
              "    .colab-df-convert:hover {\n",
              "      background-color: #E2EBFA;\n",
              "      box-shadow: 0px 1px 2px rgba(60, 64, 67, 0.3), 0px 1px 3px 1px rgba(60, 64, 67, 0.15);\n",
              "      fill: #174EA6;\n",
              "    }\n",
              "\n",
              "    [theme=dark] .colab-df-convert {\n",
              "      background-color: #3B4455;\n",
              "      fill: #D2E3FC;\n",
              "    }\n",
              "\n",
              "    [theme=dark] .colab-df-convert:hover {\n",
              "      background-color: #434B5C;\n",
              "      box-shadow: 0px 1px 3px 1px rgba(0, 0, 0, 0.15);\n",
              "      filter: drop-shadow(0px 1px 2px rgba(0, 0, 0, 0.3));\n",
              "      fill: #FFFFFF;\n",
              "    }\n",
              "  </style>\n",
              "\n",
              "      <script>\n",
              "        const buttonEl =\n",
              "          document.querySelector('#df-ce76d354-72d5-4163-ae4c-c26aaff4a32c button.colab-df-convert');\n",
              "        buttonEl.style.display =\n",
              "          google.colab.kernel.accessAllowed ? 'block' : 'none';\n",
              "\n",
              "        async function convertToInteractive(key) {\n",
              "          const element = document.querySelector('#df-ce76d354-72d5-4163-ae4c-c26aaff4a32c');\n",
              "          const dataTable =\n",
              "            await google.colab.kernel.invokeFunction('convertToInteractive',\n",
              "                                                     [key], {});\n",
              "          if (!dataTable) return;\n",
              "\n",
              "          const docLinkHtml = 'Like what you see? Visit the ' +\n",
              "            '<a target=\"_blank\" href=https://colab.research.google.com/notebooks/data_table.ipynb>data table notebook</a>'\n",
              "            + ' to learn more about interactive tables.';\n",
              "          element.innerHTML = '';\n",
              "          dataTable['output_type'] = 'display_data';\n",
              "          await google.colab.output.renderOutput(dataTable, element);\n",
              "          const docLink = document.createElement('div');\n",
              "          docLink.innerHTML = docLinkHtml;\n",
              "          element.appendChild(docLink);\n",
              "        }\n",
              "      </script>\n",
              "    </div>\n",
              "  </div>\n",
              "  "
            ]
          },
          "metadata": {},
          "execution_count": 63
        }
      ],
      "source": [
        "df_yesbank.tail()"
      ]
    },
    {
      "cell_type": "code",
      "source": [
        "df1=df_yesbank.reset_index()['Close']"
      ],
      "metadata": {
        "id": "m8U3KaBvlcfx"
      },
      "execution_count": 64,
      "outputs": []
    },
    {
      "cell_type": "code",
      "source": [
        "df1"
      ],
      "metadata": {
        "colab": {
          "base_uri": "https://localhost:8080/"
        },
        "id": "cUKRFH7_lck6",
        "outputId": "8818d280-6fc9-422c-9cf2-86d29ccf04bd"
      },
      "execution_count": 65,
      "outputs": [
        {
          "output_type": "execute_result",
          "data": {
            "text/plain": [
              "0      12.46\n",
              "1      13.42\n",
              "2      13.30\n",
              "3      12.99\n",
              "4      13.41\n",
              "       ...  \n",
              "180    11.95\n",
              "181    14.37\n",
              "182    13.15\n",
              "183    12.42\n",
              "184    14.67\n",
              "Name: Close, Length: 185, dtype: float64"
            ]
          },
          "metadata": {},
          "execution_count": 65
        }
      ]
    },
    {
      "cell_type": "code",
      "source": [
        "plt.plot(df1)"
      ],
      "metadata": {
        "colab": {
          "base_uri": "https://localhost:8080/",
          "height": 282
        },
        "id": "n4rUuAculmJn",
        "outputId": "86e89fe2-adda-452c-dfa8-66cb0e652cee"
      },
      "execution_count": 66,
      "outputs": [
        {
          "output_type": "execute_result",
          "data": {
            "text/plain": [
              "[<matplotlib.lines.Line2D at 0x7fb93c2d0b10>]"
            ]
          },
          "metadata": {},
          "execution_count": 66
        },
        {
          "output_type": "display_data",
          "data": {
            "text/plain": [
              "<Figure size 432x288 with 1 Axes>"
            ],
            "image/png": "[encoded data removed]"
          },
          "metadata": {
            "needs_background": "light"
          }
        }
      ]
    },
    {
      "cell_type": "markdown",
      "source": [
        "### LSTM are sensitive to the scale of the data. so we apply MinMax scaler "
      ],
      "metadata": {
        "id": "WfgkGjVmltZ_"
      }
    },
    {
      "cell_type": "code",
      "source": [
        "from sklearn.preprocessing import MinMaxScaler\n",
        "scaler=MinMaxScaler(feature_range=(0,1))\n",
        "df1=scaler.fit_transform(np.array(df1).reshape(-1,1))"
      ],
      "metadata": {
        "id": "G1tnHHz7lpwf"
      },
      "execution_count": 67,
      "outputs": []
    },
    {
      "cell_type": "code",
      "source": [
        "print(df1)"
      ],
      "metadata": {
        "colab": {
          "base_uri": "https://localhost:8080/"
        },
        "id": "bgq2zVq7lym2",
        "outputId": "b75c03e9-a53d-4f17-f3f4-bfd9ed4f7a6e"
      },
      "execution_count": 68,
      "outputs": [
        {
          "output_type": "stream",
          "name": "stdout",
          "text": [
            "[[6.92892266e-03]\n",
            " [9.61108628e-03]\n",
            " [9.27581582e-03]\n",
            " [8.40970049e-03]\n",
            " [9.58314707e-03]\n",
            " [1.04213232e-02]\n",
            " [1.49474743e-02]\n",
            " [1.71546714e-02]\n",
            " [2.82185963e-02]\n",
            " [2.65701833e-02]\n",
            " [2.24910595e-02]\n",
            " [1.57577112e-02]\n",
            " [1.72664283e-02]\n",
            " [2.19602146e-02]\n",
            " [2.36924452e-02]\n",
            " [3.57621815e-02]\n",
            " [4.28587394e-02]\n",
            " [4.74687081e-02]\n",
            " [5.63813143e-02]\n",
            " [5.21066160e-02]\n",
            " [5.07375950e-02]\n",
            " [5.68004023e-02]\n",
            " [6.57409477e-02]\n",
            " [7.26419312e-02]\n",
            " [7.80900760e-02]\n",
            " [7.54637908e-02]\n",
            " [8.76732231e-02]\n",
            " [9.35963344e-02]\n",
            " [1.01139920e-01]\n",
            " [1.11281851e-01]\n",
            " [1.13321413e-01]\n",
            " [1.10192222e-01]\n",
            " [6.64114886e-02]\n",
            " [6.72776039e-02]\n",
            " [5.90914171e-02]\n",
            " [3.59577559e-02]\n",
            " [4.32219490e-02]\n",
            " [4.70775592e-02]\n",
            " [3.95339741e-02]\n",
            " [1.00581135e-02]\n",
            " [6.37013858e-03]\n",
            " [1.41092982e-02]\n",
            " [6.31426017e-03]\n",
            " [7.82297720e-04]\n",
            " [0.00000000e+00]\n",
            " [1.52827447e-02]\n",
            " [4.22999553e-02]\n",
            " [5.50402325e-02]\n",
            " [6.13265534e-02]\n",
            " [6.55733125e-02]\n",
            " [8.66394725e-02]\n",
            " [1.04297050e-01]\n",
            " [1.13405230e-01]\n",
            " [1.21339964e-01]\n",
            " [1.11365668e-01]\n",
            " [1.04324989e-01]\n",
            " [1.14522798e-01]\n",
            " [1.31649531e-01]\n",
            " [1.32962673e-01]\n",
            " [1.22513411e-01]\n",
            " [1.36930040e-01]\n",
            " [1.45954403e-01]\n",
            " [1.68529280e-01]\n",
            " [1.72887796e-01]\n",
            " [1.43132544e-01]\n",
            " [1.46848458e-01]\n",
            " [1.19048949e-01]\n",
            " [1.15416853e-01]\n",
            " [1.45283862e-01]\n",
            " [1.42601699e-01]\n",
            " [1.39947474e-01]\n",
            " [1.46401430e-01]\n",
            " [1.45702950e-01]\n",
            " [1.27486589e-01]\n",
            " [1.24385338e-01]\n",
            " [1.47854269e-01]\n",
            " [1.24357398e-01]\n",
            " [1.05442557e-01]\n",
            " [1.56487483e-01]\n",
            " [1.65288333e-01]\n",
            " [1.77358069e-01]\n",
            " [1.67886679e-01]\n",
            " [1.56571301e-01]\n",
            " [1.61628297e-01]\n",
            " [1.75653777e-01]\n",
            " [1.56431605e-01]\n",
            " [1.85683952e-01]\n",
            " [2.02028386e-01]\n",
            " [2.19322754e-01]\n",
            " [2.31504247e-01]\n",
            " [2.63829906e-01]\n",
            " [2.36142155e-01]\n",
            " [2.11583594e-01]\n",
            " [2.52291015e-01]\n",
            " [2.44495977e-01]\n",
            " [2.29716138e-01]\n",
            " [1.53050961e-01]\n",
            " [1.08040903e-01]\n",
            " [1.32767099e-01]\n",
            " [1.78196245e-01]\n",
            " [1.78140367e-01]\n",
            " [1.78922664e-01]\n",
            " [1.44194233e-01]\n",
            " [1.42406124e-01]\n",
            " [2.03173894e-01]\n",
            " [2.18372821e-01]\n",
            " [2.90316272e-01]\n",
            " [2.74921770e-01]\n",
            " [2.74446804e-01]\n",
            " [2.91545597e-01]\n",
            " [2.84197586e-01]\n",
            " [3.54408806e-01]\n",
            " [3.69076889e-01]\n",
            " [4.03972955e-01]\n",
            " [4.54067948e-01]\n",
            " [4.54207644e-01]\n",
            " [4.28391819e-01]\n",
            " [4.41383549e-01]\n",
            " [4.65299508e-01]\n",
            " [4.43171658e-01]\n",
            " [4.35181046e-01]\n",
            " [3.57398301e-01]\n",
            " [3.79805543e-01]\n",
            " [3.96289674e-01]\n",
            " [4.00424676e-01]\n",
            " [3.77877738e-01]\n",
            " [3.89472508e-01]\n",
            " [3.56755700e-01]\n",
            " [4.55213456e-01]\n",
            " [4.99413277e-01]\n",
            " [5.48753911e-01]\n",
            " [5.90411265e-01]\n",
            " [6.52268663e-01]\n",
            " [7.33627626e-01]\n",
            " [6.72971614e-01]\n",
            " [6.80431381e-01]\n",
            " [6.26676352e-01]\n",
            " [6.18238713e-01]\n",
            " [7.51899866e-01]\n",
            " [7.83918194e-01]\n",
            " [8.37729101e-01]\n",
            " [8.83325883e-01]\n",
            " [7.72239607e-01]\n",
            " [7.88975190e-01]\n",
            " [9.83404113e-01]\n",
            " [9.53201833e-01]\n",
            " [9.49988824e-01]\n",
            " [8.50385561e-01]\n",
            " [8.29291462e-01]\n",
            " [8.52341305e-01]\n",
            " [9.62421770e-01]\n",
            " [8.72457532e-01]\n",
            " [8.23983013e-01]\n",
            " [9.83655565e-01]\n",
            " [9.39371927e-01]\n",
            " [9.20932052e-01]\n",
            " [1.00000000e+00]\n",
            " [9.31548949e-01]\n",
            " [4.84661377e-01]\n",
            " [4.97513411e-01]\n",
            " [4.46105275e-01]\n",
            " [4.79911712e-01]\n",
            " [5.14975414e-01]\n",
            " [6.18071077e-01]\n",
            " [7.40584488e-01]\n",
            " [4.41495306e-01]\n",
            " [3.85477202e-01]\n",
            " [2.75815825e-01]\n",
            " [2.27201609e-01]\n",
            " [1.38354940e-01]\n",
            " [8.79246759e-02]\n",
            " [1.68948368e-01]\n",
            " [1.62941439e-01]\n",
            " [1.03291238e-01]\n",
            " [8.16383549e-02]\n",
            " [6.86466249e-02]\n",
            " [3.48401878e-02]\n",
            " [5.02067501e-02]\n",
            " [4.71334376e-02]\n",
            " [4.36410371e-02]\n",
            " [5.50402325e-03]\n",
            " [1.22653107e-02]\n",
            " [8.85672776e-03]\n",
            " [6.81716585e-03]\n",
            " [1.31034868e-02]]\n"
          ]
        }
      ]
    },
    {
      "cell_type": "code",
      "source": [
        "##splitting dataset into train and test split\n",
        "training_size=int(len(df1)*0.65)\n",
        "test_size=len(df1)-training_size\n",
        "train_data,test_data=df1[0:training_size,:],df1[training_size:len(df1),:1]"
      ],
      "metadata": {
        "id": "wCm9NDVSlypo"
      },
      "execution_count": 69,
      "outputs": []
    },
    {
      "cell_type": "code",
      "source": [
        "training_size,test_size"
      ],
      "metadata": {
        "colab": {
          "base_uri": "https://localhost:8080/"
        },
        "id": "_CuMdjEsl64K",
        "outputId": "a66c8650-f7b6-4136-9ca0-3d2b38dca043"
      },
      "execution_count": 70,
      "outputs": [
        {
          "output_type": "execute_result",
          "data": {
            "text/plain": [
              "(120, 65)"
            ]
          },
          "metadata": {},
          "execution_count": 70
        }
      ]
    },
    {
      "cell_type": "code",
      "source": [
        "def create_dataset(dataset, time_step=1):\n",
        "\tdataX, dataY = [], []\n",
        "\tfor i in range(len(dataset)-time_step-1):\n",
        "\t\ta = dataset[i:(i+time_step), 0]   ###i=0, 0,1,2,3-----99   100 \n",
        "\t\tdataX.append(a)\n",
        "\t\tdataY.append(dataset[i + time_step, 0])\n",
        "\treturn numpy.array(dataX), numpy.array(dataY)"
      ],
      "metadata": {
        "id": "i-O2iWMYl66m"
      },
      "execution_count": 107,
      "outputs": []
    },
    {
      "cell_type": "code",
      "source": [
        "import numpy\n",
        "#reshape into X=t,t+1,t+2,t+3 and Y=t+4\n",
        "time_step = 10\n",
        "X_train, y_train = create_dataset(train_data, time_step)\n",
        "X_test, ytest = create_dataset(test_data, time_step)"
      ],
      "metadata": {
        "id": "bcLvAavzmLOF"
      },
      "execution_count": 108,
      "outputs": []
    },
    {
      "cell_type": "code",
      "source": [
        "print(X_train.shape), print(y_train.shape)"
      ],
      "metadata": {
        "colab": {
          "base_uri": "https://localhost:8080/"
        },
        "id": "Rp-CzLb-mStd",
        "outputId": "ec327874-cebb-4d0e-c00b-0af30d056dea"
      },
      "execution_count": 109,
      "outputs": [
        {
          "output_type": "stream",
          "name": "stdout",
          "text": [
            "(109, 10)\n",
            "(109,)\n"
          ]
        },
        {
          "output_type": "execute_result",
          "data": {
            "text/plain": [
              "(None, None)"
            ]
          },
          "metadata": {},
          "execution_count": 109
        }
      ]
    },
    {
      "cell_type": "code",
      "source": [
        "print(X_test.shape), print(ytest.shape)"
      ],
      "metadata": {
        "colab": {
          "base_uri": "https://localhost:8080/"
        },
        "id": "NimsmBfznZ3j",
        "outputId": "94f2ef70-7546-4bc8-dab3-c63bc6fd7c84"
      },
      "execution_count": 74,
      "outputs": [
        {
          "output_type": "stream",
          "name": "stdout",
          "text": [
            "(54, 10)\n",
            "(54,)\n"
          ]
        },
        {
          "output_type": "execute_result",
          "data": {
            "text/plain": [
              "(None, None)"
            ]
          },
          "metadata": {},
          "execution_count": 74
        }
      ]
    },
    {
      "cell_type": "code",
      "source": [
        "# reshape input to be [samples, time steps, features] which is required for LSTM\n",
        "X_train =X_train.reshape(X_train.shape[0],X_train.shape[1] , 1)\n",
        "X_test = X_test.reshape(X_test.shape[0],X_test.shape[1] , 1)"
      ],
      "metadata": {
        "id": "n7mSTUl0m3Uk"
      },
      "execution_count": 110,
      "outputs": []
    },
    {
      "cell_type": "code",
      "source": [
        "### Create the Stacked LSTM model\n",
        "from tensorflow.keras.models import Sequential\n",
        "from tensorflow.keras.layers import Dense\n",
        "from tensorflow.keras.layers import LSTM"
      ],
      "metadata": {
        "id": "EYJtLECOnxy9"
      },
      "execution_count": 111,
      "outputs": []
    },
    {
      "cell_type": "code",
      "source": [
        "model=Sequential()\n",
        "model.add(LSTM(5,return_sequences=True,input_shape=(10,1)))\n",
        "model.add(LSTM(5,return_sequences=True))\n",
        "model.add(LSTM(5))\n",
        "model.add(Dense(1))\n",
        "model.compile(loss='mean_squared_error',optimizer='adam')"
      ],
      "metadata": {
        "id": "HcWls0O5nx4S"
      },
      "execution_count": 114,
      "outputs": []
    },
    {
      "cell_type": "code",
      "source": [
        "model.summary()"
      ],
      "metadata": {
        "colab": {
          "base_uri": "https://localhost:8080/"
        },
        "id": "Sn_a7vzynx-d",
        "outputId": "f8331b9a-648e-43d5-a2dd-572d73312606"
      },
      "execution_count": 115,
      "outputs": [
        {
          "output_type": "stream",
          "name": "stdout",
          "text": [
            "Model: \"sequential_4\"\n",
            "_________________________________________________________________\n",
            " Layer (type)                Output Shape              Param #   \n",
            "=================================================================\n",
            " lstm_12 (LSTM)              (None, 10, 5)             140       \n",
            "                                                                 \n",
            " lstm_13 (LSTM)              (None, 10, 5)             220       \n",
            "                                                                 \n",
            " lstm_14 (LSTM)              (None, 5)                 220       \n",
            "                                                                 \n",
            " dense_4 (Dense)             (None, 1)                 6         \n",
            "                                                                 \n",
            "=================================================================\n",
            "Total params: 586\n",
            "Trainable params: 586\n",
            "Non-trainable params: 0\n",
            "_________________________________________________________________\n"
          ]
        }
      ]
    },
    {
      "cell_type": "code",
      "source": [
        "model.fit(X_train,y_train,validation_data=(X_test,ytest),epochs=100,batch_size=64,verbose=1)"
      ],
      "metadata": {
        "colab": {
          "base_uri": "https://localhost:8080/"
        },
        "id": "hAFM3UDqoVnQ",
        "outputId": "62736c4d-193c-49d7-c075-3e46e459966d"
      },
      "execution_count": 116,
      "outputs": [
        {
          "output_type": "stream",
          "name": "stdout",
          "text": [
            "Epoch 1/100\n",
            "2/2 [==============================] - 7s 1s/step - loss: 0.0370 - val_loss: 0.4436\n",
            "Epoch 2/100\n",
            "2/2 [==============================] - 0s 38ms/step - loss: 0.0324 - val_loss: 0.4207\n",
            "Epoch 3/100\n",
            "2/2 [==============================] - 0s 39ms/step - loss: 0.0286 - val_loss: 0.3992\n",
            "Epoch 4/100\n",
            "2/2 [==============================] - 0s 39ms/step - loss: 0.0250 - val_loss: 0.3788\n",
            "Epoch 5/100\n",
            "2/2 [==============================] - 0s 37ms/step - loss: 0.0220 - val_loss: 0.3593\n",
            "Epoch 6/100\n",
            "2/2 [==============================] - 0s 43ms/step - loss: 0.0193 - val_loss: 0.3404\n",
            "Epoch 7/100\n",
            "2/2 [==============================] - 0s 36ms/step - loss: 0.0169 - val_loss: 0.3223\n",
            "Epoch 8/100\n",
            "2/2 [==============================] - 0s 40ms/step - loss: 0.0148 - val_loss: 0.3048\n",
            "Epoch 9/100\n",
            "2/2 [==============================] - 0s 40ms/step - loss: 0.0132 - val_loss: 0.2879\n",
            "Epoch 10/100\n",
            "2/2 [==============================] - 0s 35ms/step - loss: 0.0119 - val_loss: 0.2717\n",
            "Epoch 11/100\n",
            "2/2 [==============================] - 0s 36ms/step - loss: 0.0110 - val_loss: 0.2566\n",
            "Epoch 12/100\n",
            "2/2 [==============================] - 0s 34ms/step - loss: 0.0104 - val_loss: 0.2428\n",
            "Epoch 13/100\n",
            "2/2 [==============================] - 0s 36ms/step - loss: 0.0102 - val_loss: 0.2307\n",
            "Epoch 14/100\n",
            "2/2 [==============================] - 0s 36ms/step - loss: 0.0101 - val_loss: 0.2207\n",
            "Epoch 15/100\n",
            "2/2 [==============================] - 0s 37ms/step - loss: 0.0101 - val_loss: 0.2130\n",
            "Epoch 16/100\n",
            "2/2 [==============================] - 0s 37ms/step - loss: 0.0102 - val_loss: 0.2071\n",
            "Epoch 17/100\n",
            "2/2 [==============================] - 0s 35ms/step - loss: 0.0102 - val_loss: 0.2034\n",
            "Epoch 18/100\n",
            "2/2 [==============================] - 0s 39ms/step - loss: 0.0101 - val_loss: 0.2008\n",
            "Epoch 19/100\n",
            "2/2 [==============================] - 0s 38ms/step - loss: 0.0099 - val_loss: 0.1996\n",
            "Epoch 20/100\n",
            "2/2 [==============================] - 0s 37ms/step - loss: 0.0096 - val_loss: 0.1994\n",
            "Epoch 21/100\n",
            "2/2 [==============================] - 0s 54ms/step - loss: 0.0093 - val_loss: 0.1998\n",
            "Epoch 22/100\n",
            "2/2 [==============================] - 0s 36ms/step - loss: 0.0091 - val_loss: 0.2001\n",
            "Epoch 23/100\n",
            "2/2 [==============================] - 0s 43ms/step - loss: 0.0089 - val_loss: 0.1996\n",
            "Epoch 24/100\n",
            "2/2 [==============================] - 0s 35ms/step - loss: 0.0087 - val_loss: 0.1988\n",
            "Epoch 25/100\n",
            "2/2 [==============================] - 0s 35ms/step - loss: 0.0086 - val_loss: 0.1971\n",
            "Epoch 26/100\n",
            "2/2 [==============================] - 0s 38ms/step - loss: 0.0085 - val_loss: 0.1953\n",
            "Epoch 27/100\n",
            "2/2 [==============================] - 0s 37ms/step - loss: 0.0083 - val_loss: 0.1923\n",
            "Epoch 28/100\n",
            "2/2 [==============================] - 0s 36ms/step - loss: 0.0082 - val_loss: 0.1884\n",
            "Epoch 29/100\n",
            "2/2 [==============================] - 0s 38ms/step - loss: 0.0080 - val_loss: 0.1837\n",
            "Epoch 30/100\n",
            "2/2 [==============================] - 0s 35ms/step - loss: 0.0078 - val_loss: 0.1782\n",
            "Epoch 31/100\n",
            "2/2 [==============================] - 0s 36ms/step - loss: 0.0076 - val_loss: 0.1720\n",
            "Epoch 32/100\n",
            "2/2 [==============================] - 0s 36ms/step - loss: 0.0075 - val_loss: 0.1652\n",
            "Epoch 33/100\n",
            "2/2 [==============================] - 0s 54ms/step - loss: 0.0072 - val_loss: 0.1589\n",
            "Epoch 34/100\n",
            "2/2 [==============================] - 0s 40ms/step - loss: 0.0071 - val_loss: 0.1521\n",
            "Epoch 35/100\n",
            "2/2 [==============================] - 0s 36ms/step - loss: 0.0069 - val_loss: 0.1459\n",
            "Epoch 36/100\n",
            "2/2 [==============================] - 0s 35ms/step - loss: 0.0067 - val_loss: 0.1397\n",
            "Epoch 37/100\n",
            "2/2 [==============================] - 0s 36ms/step - loss: 0.0064 - val_loss: 0.1340\n",
            "Epoch 38/100\n",
            "2/2 [==============================] - 0s 36ms/step - loss: 0.0063 - val_loss: 0.1281\n",
            "Epoch 39/100\n",
            "2/2 [==============================] - 0s 41ms/step - loss: 0.0061 - val_loss: 0.1224\n",
            "Epoch 40/100\n",
            "2/2 [==============================] - 0s 37ms/step - loss: 0.0058 - val_loss: 0.1171\n",
            "Epoch 41/100\n",
            "2/2 [==============================] - 0s 39ms/step - loss: 0.0056 - val_loss: 0.1120\n",
            "Epoch 42/100\n",
            "2/2 [==============================] - 0s 35ms/step - loss: 0.0054 - val_loss: 0.1071\n",
            "Epoch 43/100\n",
            "2/2 [==============================] - 0s 36ms/step - loss: 0.0052 - val_loss: 0.1020\n",
            "Epoch 44/100\n",
            "2/2 [==============================] - 0s 37ms/step - loss: 0.0050 - val_loss: 0.0964\n",
            "Epoch 45/100\n",
            "2/2 [==============================] - 0s 38ms/step - loss: 0.0048 - val_loss: 0.0910\n",
            "Epoch 46/100\n",
            "2/2 [==============================] - 0s 42ms/step - loss: 0.0045 - val_loss: 0.0862\n",
            "Epoch 47/100\n",
            "2/2 [==============================] - 0s 36ms/step - loss: 0.0043 - val_loss: 0.0815\n",
            "Epoch 48/100\n",
            "2/2 [==============================] - 0s 35ms/step - loss: 0.0042 - val_loss: 0.0767\n",
            "Epoch 49/100\n",
            "2/2 [==============================] - 0s 35ms/step - loss: 0.0040 - val_loss: 0.0725\n",
            "Epoch 50/100\n",
            "2/2 [==============================] - 0s 36ms/step - loss: 0.0038 - val_loss: 0.0684\n",
            "Epoch 51/100\n",
            "2/2 [==============================] - 0s 39ms/step - loss: 0.0037 - val_loss: 0.0648\n",
            "Epoch 52/100\n",
            "2/2 [==============================] - 0s 36ms/step - loss: 0.0035 - val_loss: 0.0620\n",
            "Epoch 53/100\n",
            "2/2 [==============================] - 0s 39ms/step - loss: 0.0034 - val_loss: 0.0599\n",
            "Epoch 54/100\n",
            "2/2 [==============================] - 0s 35ms/step - loss: 0.0033 - val_loss: 0.0581\n",
            "Epoch 55/100\n",
            "2/2 [==============================] - 0s 39ms/step - loss: 0.0032 - val_loss: 0.0567\n",
            "Epoch 56/100\n",
            "2/2 [==============================] - 0s 38ms/step - loss: 0.0031 - val_loss: 0.0556\n",
            "Epoch 57/100\n",
            "2/2 [==============================] - 0s 37ms/step - loss: 0.0031 - val_loss: 0.0550\n",
            "Epoch 58/100\n",
            "2/2 [==============================] - 0s 41ms/step - loss: 0.0031 - val_loss: 0.0547\n",
            "Epoch 59/100\n",
            "2/2 [==============================] - 0s 37ms/step - loss: 0.0030 - val_loss: 0.0547\n",
            "Epoch 60/100\n",
            "2/2 [==============================] - 0s 41ms/step - loss: 0.0030 - val_loss: 0.0549\n",
            "Epoch 61/100\n",
            "2/2 [==============================] - 0s 37ms/step - loss: 0.0030 - val_loss: 0.0551\n",
            "Epoch 62/100\n",
            "2/2 [==============================] - 0s 38ms/step - loss: 0.0030 - val_loss: 0.0553\n",
            "Epoch 63/100\n",
            "2/2 [==============================] - 0s 37ms/step - loss: 0.0030 - val_loss: 0.0557\n",
            "Epoch 64/100\n",
            "2/2 [==============================] - 0s 36ms/step - loss: 0.0030 - val_loss: 0.0559\n",
            "Epoch 65/100\n",
            "2/2 [==============================] - 0s 44ms/step - loss: 0.0030 - val_loss: 0.0561\n",
            "Epoch 66/100\n",
            "2/2 [==============================] - 0s 35ms/step - loss: 0.0030 - val_loss: 0.0562\n",
            "Epoch 67/100\n",
            "2/2 [==============================] - 0s 39ms/step - loss: 0.0030 - val_loss: 0.0562\n",
            "Epoch 68/100\n",
            "2/2 [==============================] - 0s 52ms/step - loss: 0.0030 - val_loss: 0.0560\n",
            "Epoch 69/100\n",
            "2/2 [==============================] - 0s 37ms/step - loss: 0.0030 - val_loss: 0.0562\n",
            "Epoch 70/100\n",
            "2/2 [==============================] - 0s 39ms/step - loss: 0.0030 - val_loss: 0.0563\n",
            "Epoch 71/100\n",
            "2/2 [==============================] - 0s 37ms/step - loss: 0.0030 - val_loss: 0.0566\n",
            "Epoch 72/100\n",
            "2/2 [==============================] - 0s 37ms/step - loss: 0.0030 - val_loss: 0.0568\n",
            "Epoch 73/100\n",
            "2/2 [==============================] - 0s 36ms/step - loss: 0.0030 - val_loss: 0.0564\n",
            "Epoch 74/100\n",
            "2/2 [==============================] - 0s 36ms/step - loss: 0.0030 - val_loss: 0.0557\n",
            "Epoch 75/100\n",
            "2/2 [==============================] - 0s 54ms/step - loss: 0.0029 - val_loss: 0.0553\n",
            "Epoch 76/100\n",
            "2/2 [==============================] - 0s 36ms/step - loss: 0.0029 - val_loss: 0.0551\n",
            "Epoch 77/100\n",
            "2/2 [==============================] - 0s 36ms/step - loss: 0.0029 - val_loss: 0.0552\n",
            "Epoch 78/100\n",
            "2/2 [==============================] - 0s 35ms/step - loss: 0.0029 - val_loss: 0.0556\n",
            "Epoch 79/100\n",
            "2/2 [==============================] - 0s 36ms/step - loss: 0.0029 - val_loss: 0.0558\n",
            "Epoch 80/100\n",
            "2/2 [==============================] - 0s 35ms/step - loss: 0.0029 - val_loss: 0.0561\n",
            "Epoch 81/100\n",
            "2/2 [==============================] - 0s 37ms/step - loss: 0.0029 - val_loss: 0.0562\n",
            "Epoch 82/100\n",
            "2/2 [==============================] - 0s 36ms/step - loss: 0.0029 - val_loss: 0.0559\n",
            "Epoch 83/100\n",
            "2/2 [==============================] - 0s 37ms/step - loss: 0.0029 - val_loss: 0.0556\n",
            "Epoch 84/100\n",
            "2/2 [==============================] - 0s 38ms/step - loss: 0.0029 - val_loss: 0.0555\n",
            "Epoch 85/100\n",
            "2/2 [==============================] - 0s 37ms/step - loss: 0.0029 - val_loss: 0.0557\n",
            "Epoch 86/100\n",
            "2/2 [==============================] - 0s 37ms/step - loss: 0.0029 - val_loss: 0.0559\n",
            "Epoch 87/100\n",
            "2/2 [==============================] - 0s 38ms/step - loss: 0.0029 - val_loss: 0.0562\n",
            "Epoch 88/100\n",
            "2/2 [==============================] - 0s 37ms/step - loss: 0.0029 - val_loss: 0.0570\n",
            "Epoch 89/100\n",
            "2/2 [==============================] - 0s 37ms/step - loss: 0.0029 - val_loss: 0.0573\n",
            "Epoch 90/100\n",
            "2/2 [==============================] - 0s 41ms/step - loss: 0.0029 - val_loss: 0.0572\n",
            "Epoch 91/100\n",
            "2/2 [==============================] - 0s 39ms/step - loss: 0.0029 - val_loss: 0.0571\n",
            "Epoch 92/100\n",
            "2/2 [==============================] - 0s 43ms/step - loss: 0.0028 - val_loss: 0.0569\n",
            "Epoch 93/100\n",
            "2/2 [==============================] - 0s 39ms/step - loss: 0.0028 - val_loss: 0.0570\n",
            "Epoch 94/100\n",
            "2/2 [==============================] - 0s 37ms/step - loss: 0.0029 - val_loss: 0.0570\n",
            "Epoch 95/100\n",
            "2/2 [==============================] - 0s 37ms/step - loss: 0.0028 - val_loss: 0.0579\n",
            "Epoch 96/100\n",
            "2/2 [==============================] - 0s 37ms/step - loss: 0.0028 - val_loss: 0.0587\n",
            "Epoch 97/100\n",
            "2/2 [==============================] - 0s 37ms/step - loss: 0.0028 - val_loss: 0.0592\n",
            "Epoch 98/100\n",
            "2/2 [==============================] - 0s 36ms/step - loss: 0.0028 - val_loss: 0.0600\n",
            "Epoch 99/100\n",
            "2/2 [==============================] - 0s 36ms/step - loss: 0.0028 - val_loss: 0.0597\n",
            "Epoch 100/100\n",
            "2/2 [==============================] - 0s 37ms/step - loss: 0.0028 - val_loss: 0.0598\n"
          ]
        },
        {
          "output_type": "execute_result",
          "data": {
            "text/plain": [
              "<keras.callbacks.History at 0x7fb933b92810>"
            ]
          },
          "metadata": {},
          "execution_count": 116
        }
      ]
    },
    {
      "cell_type": "code",
      "source": [
        "import tensorflow as tf"
      ],
      "metadata": {
        "id": "Yne8_KaXoWoZ"
      },
      "execution_count": 80,
      "outputs": []
    },
    {
      "cell_type": "code",
      "source": [
        "tf.__version__"
      ],
      "metadata": {
        "colab": {
          "base_uri": "https://localhost:8080/",
          "height": 35
        },
        "id": "GOKNsPsuoWrG",
        "outputId": "70555301-a916-44e1-a097-9c2af2420372"
      },
      "execution_count": 81,
      "outputs": [
        {
          "output_type": "execute_result",
          "data": {
            "text/plain": [
              "'2.9.2'"
            ],
            "application/vnd.google.colaboratory.intrinsic+json": {
              "type": "string"
            }
          },
          "metadata": {},
          "execution_count": 81
        }
      ]
    },
    {
      "cell_type": "code",
      "source": [
        "### Lets Do the prediction and check performance metrics\n",
        "train_predict=model.predict(X_train)\n",
        "test_predict=model.predict(X_test)"
      ],
      "metadata": {
        "colab": {
          "base_uri": "https://localhost:8080/"
        },
        "id": "9wxmVV5Nov6A",
        "outputId": "e822635d-22fc-4912-c3f8-3de74e2d08df"
      },
      "execution_count": 117,
      "outputs": [
        {
          "output_type": "stream",
          "name": "stdout",
          "text": [
            "4/4 [==============================] - 1s 5ms/step\n",
            "2/2 [==============================] - 0s 7ms/step\n"
          ]
        }
      ]
    },
    {
      "cell_type": "code",
      "source": [
        "##Transformback to original form\n",
        "train_predict=scaler.inverse_transform(train_predict)\n",
        "test_predict=scaler.inverse_transform(test_predict)"
      ],
      "metadata": {
        "id": "vqIjHVS6ov_Q"
      },
      "execution_count": 118,
      "outputs": []
    },
    {
      "cell_type": "code",
      "source": [
        "### Calculate RMSE performance metrics\n",
        "import math\n",
        "from sklearn.metrics import mean_squared_error\n",
        "math.sqrt(mean_squared_error(y_train,train_predict))"
      ],
      "metadata": {
        "colab": {
          "base_uri": "https://localhost:8080/"
        },
        "id": "R5QPoisSpcZT",
        "outputId": "ec43eced-a6b7-44f4-dc92-5a9c9fa5d17a"
      },
      "execution_count": 119,
      "outputs": [
        {
          "output_type": "execute_result",
          "data": {
            "text/plain": [
              "69.45376126063728"
            ]
          },
          "metadata": {},
          "execution_count": 119
        }
      ]
    },
    {
      "cell_type": "code",
      "source": [
        "### Test Data RMSE\n",
        "math.sqrt(mean_squared_error(ytest,test_predict))"
      ],
      "metadata": {
        "colab": {
          "base_uri": "https://localhost:8080/"
        },
        "id": "CZc5m-UxpelU",
        "outputId": "da6f3836-d1e7-4eaa-d16e-9200ee184bb3"
      },
      "execution_count": 120,
      "outputs": [
        {
          "output_type": "execute_result",
          "data": {
            "text/plain": [
              "255.62331257553288"
            ]
          },
          "metadata": {},
          "execution_count": 120
        }
      ]
    },
    {
      "cell_type": "code",
      "source": [
        "### Plotting \n",
        "# shift train predictions for plotting\n",
        "look_back=10\n",
        "trainPredictPlot = numpy.empty_like(df1)\n",
        "trainPredictPlot[:, :] = np.nan\n",
        "trainPredictPlot[look_back:len(train_predict)+look_back, :] = train_predict\n",
        "# shift test predictions for plotting\n",
        "testPredictPlot = numpy.empty_like(df1)\n",
        "testPredictPlot[:, :] = numpy.nan\n",
        "testPredictPlot[len(train_predict)+(look_back*2)+1:len(df1)-1, :] = test_predict\n",
        "# plot baseline and predictions\n",
        "plt.plot(scaler.inverse_transform(df1))\n",
        "plt.plot(trainPredictPlot)\n",
        "plt.plot(testPredictPlot)\n",
        "plt.show()"
      ],
      "metadata": {
        "colab": {
          "base_uri": "https://localhost:8080/",
          "height": 265
        },
        "id": "52iB6v9Tpj5U",
        "outputId": "4e47918f-6401-4474-f248-c1f055e2b895"
      },
      "execution_count": 121,
      "outputs": [
        {
          "output_type": "display_data",
          "data": {
            "text/plain": [
              "<Figure size 432x288 with 1 Axes>"
            ],
            "image/png": "[encoded data removed]"
          },
          "metadata": {
            "needs_background": "light"
          }
        }
      ]
    },
    {
      "cell_type": "markdown",
      "source": [
        "Blue represent dataset \n",
        "\n",
        "test data predicated output with Green\n",
        "\n",
        "train predict data with orange\n"
      ],
      "metadata": {
        "id": "ftciYQtcqUL9"
      }
    },
    {
      "cell_type": "code",
      "source": [
        "len(test_data)"
      ],
      "metadata": {
        "colab": {
          "base_uri": "https://localhost:8080/"
        },
        "id": "GOYKNk_DpuQv",
        "outputId": "24f28273-f602-48c9-d0d3-e77ff06d62f9"
      },
      "execution_count": 87,
      "outputs": [
        {
          "output_type": "execute_result",
          "data": {
            "text/plain": [
              "65"
            ]
          },
          "metadata": {},
          "execution_count": 87
        }
      ]
    },
    {
      "cell_type": "code",
      "source": [
        "x_input=test_data[55:].reshape(1,-1)\n",
        "x_input.shape"
      ],
      "metadata": {
        "colab": {
          "base_uri": "https://localhost:8080/"
        },
        "id": "mcCFU1lJqrDx",
        "outputId": "c74130d4-31f4-4d83-eefc-f72619b9b6e8"
      },
      "execution_count": 122,
      "outputs": [
        {
          "output_type": "execute_result",
          "data": {
            "text/plain": [
              "(1, 10)"
            ]
          },
          "metadata": {},
          "execution_count": 122
        }
      ]
    },
    {
      "cell_type": "code",
      "source": [
        "temp_input=list(x_input)\n",
        "temp_input=temp_input[0].tolist()"
      ],
      "metadata": {
        "id": "bK6iT008qtq4"
      },
      "execution_count": 123,
      "outputs": []
    },
    {
      "cell_type": "code",
      "source": [
        "temp_input"
      ],
      "metadata": {
        "colab": {
          "base_uri": "https://localhost:8080/"
        },
        "id": "R5vL6eNAqwcg",
        "outputId": "ddcc01ed-3994-4153-a019-06d1cd4be17d"
      },
      "execution_count": 124,
      "outputs": [
        {
          "output_type": "execute_result",
          "data": {
            "text/plain": [
              "[0.0686466249441216,\n",
              " 0.034840187751452846,\n",
              " 0.05020675011175683,\n",
              " 0.047133437639696026,\n",
              " 0.0436410371032633,\n",
              " 0.0055040232454179674,\n",
              " 0.012265310683951716,\n",
              " 0.008856727760393382,\n",
              " 0.0068171658471166754,\n",
              " 0.013103486812695575]"
            ]
          },
          "metadata": {},
          "execution_count": 124
        }
      ]
    },
    {
      "cell_type": "code",
      "source": [
        "# demonstrate prediction for next 5 months\n",
        "from numpy import array\n",
        "\n",
        "lst_output=[]\n",
        "n_steps=14\n",
        "i=0\n",
        "while(i<5):\n",
        "    \n",
        "    if(len(temp_input)>10):\n",
        "        #print(temp_input)\n",
        "        x_input=np.array(temp_input[1:])\n",
        "        print(\"{} day input {}\".format(i,x_input))\n",
        "        x_input=x_input.reshape(1,-1)\n",
        "        x_input = x_input.reshape((1, n_steps, 1))\n",
        "        #print(x_input)\n",
        "        yhat = model.predict(x_input, verbose=0)\n",
        "        print(\"{} day output {}\".format(i,yhat))\n",
        "        temp_input.extend(yhat[0].tolist())\n",
        "        temp_input=temp_input[1:]\n",
        "        #print(temp_input)\n",
        "        lst_output.extend(yhat.tolist())\n",
        "        i=i+1\n",
        "    else:\n",
        "        x_input = x_input.reshape((1, n_steps,1))\n",
        "        yhat = model.predict(x_input, verbose=0)\n",
        "        print(yhat[0])\n",
        "        temp_input.extend(yhat[0].tolist())\n",
        "        print(len(temp_input))\n",
        "        lst_output.extend(yhat.tolist())\n",
        "        i=i+1\n",
        "    \n",
        "\n",
        "print(lst_output)"
      ],
      "metadata": {
        "colab": {
          "base_uri": "https://localhost:8080/"
        },
        "id": "82_sUTctraEu",
        "outputId": "701948ec-da85-4c8e-cf98-524a492508ee"
      },
      "execution_count": 137,
      "outputs": [
        {
          "output_type": "stream",
          "name": "stdout",
          "text": [
            "0 day input [0.03484019 0.05020675 0.04713344 0.04364104 0.00550402 0.01226531\n",
            " 0.00885673 0.00681717 0.01310349 0.05596661 0.05596661 0.05596661\n",
            " 0.05596661 0.05596661]\n",
            "0 day output [[0.03520116]]\n",
            "1 day input [0.05020675 0.04713344 0.04364104 0.00550402 0.01226531 0.00885673\n",
            " 0.00681717 0.01310349 0.05596661 0.05596661 0.05596661 0.05596661\n",
            " 0.05596661 0.03520116]\n",
            "1 day output [[0.03579885]]\n",
            "2 day input [0.04713344 0.04364104 0.00550402 0.01226531 0.00885673 0.00681717\n",
            " 0.01310349 0.05596661 0.05596661 0.05596661 0.05596661 0.05596661\n",
            " 0.03520116 0.03579885]\n",
            "2 day output [[0.03463606]]\n",
            "3 day input [0.04364104 0.00550402 0.01226531 0.00885673 0.00681717 0.01310349\n",
            " 0.05596661 0.05596661 0.05596661 0.05596661 0.05596661 0.03520116\n",
            " 0.03579885 0.03463606]\n",
            "3 day output [[0.03409167]]\n",
            "4 day input [0.00550402 0.01226531 0.00885673 0.00681717 0.01310349 0.05596661\n",
            " 0.05596661 0.05596661 0.05596661 0.05596661 0.03520116 0.03579885\n",
            " 0.03463606 0.03409167]\n",
            "4 day output [[0.03411444]]\n",
            "[[0.03520116209983826], [0.035798847675323486], [0.034636057913303375], [0.03409167379140854], [0.03411443531513214]]\n"
          ]
        }
      ]
    },
    {
      "cell_type": "code",
      "source": [
        "day_new=np.arange(1,10)\n",
        "day_pred=np.arange(10,15)"
      ],
      "metadata": {
        "id": "8gDx0mntrrjA"
      },
      "execution_count": 138,
      "outputs": []
    },
    {
      "cell_type": "code",
      "source": [
        "import matplotlib.pyplot as plt"
      ],
      "metadata": {
        "id": "Dn1azv63rrn9"
      },
      "execution_count": 139,
      "outputs": []
    },
    {
      "cell_type": "code",
      "source": [
        "len(df1)"
      ],
      "metadata": {
        "colab": {
          "base_uri": "https://localhost:8080/"
        },
        "id": "d83SJqCYrrrX",
        "outputId": "c572df47-63cf-45eb-d630-0840e7b752fe"
      },
      "execution_count": 140,
      "outputs": [
        {
          "output_type": "execute_result",
          "data": {
            "text/plain": [
              "185"
            ]
          },
          "metadata": {},
          "execution_count": 140
        }
      ]
    },
    {
      "cell_type": "code",
      "source": [
        "plt.plot(day_new,scaler.inverse_transform(df1[176:]))\n",
        "plt.plot(day_pred,scaler.inverse_transform(lst_output))"
      ],
      "metadata": {
        "colab": {
          "base_uri": "https://localhost:8080/",
          "height": 282
        },
        "id": "6wacM3C5sK9d",
        "outputId": "4b12a387-ccb2-4e5a-c367-d7185457c08b"
      },
      "execution_count": 147,
      "outputs": [
        {
          "output_type": "execute_result",
          "data": {
            "text/plain": [
              "[<matplotlib.lines.Line2D at 0x7fb938a6c710>]"
            ]
          },
          "metadata": {},
          "execution_count": 147
        },
        {
          "output_type": "display_data",
          "data": {
            "text/plain": [
              "<Figure size 432x288 with 1 Axes>"
            ],
            "image/png": "[encoded data removed]"
          },
          "metadata": {
            "needs_background": "light"
          }
        }
      ]
    },
    {
      "cell_type": "code",
      "source": [
        "df3=df1.tolist()\n",
        "df3.extend(lst_output)\n",
        "plt.plot(df3[120:])"
      ],
      "metadata": {
        "colab": {
          "base_uri": "https://localhost:8080/",
          "height": 282
        },
        "id": "_Wjv6kxcsLAX",
        "outputId": "2575d204-9171-497f-b4c0-91ad10e4c0d3"
      },
      "execution_count": 156,
      "outputs": [
        {
          "output_type": "execute_result",
          "data": {
            "text/plain": [
              "[<matplotlib.lines.Line2D at 0x7fb935b81ed0>]"
            ]
          },
          "metadata": {},
          "execution_count": 156
        },
        {
          "output_type": "display_data",
          "data": {
            "text/plain": [
              "<Figure size 432x288 with 1 Axes>"
            ],
            "image/png": "[encoded data removed]"
          },
          "metadata": {
            "needs_background": "light"
          }
        }
      ]
    },
    {
      "cell_type": "markdown",
      "source": [
        "Its look like smoothen curve"
      ],
      "metadata": {
        "id": "WHW3qRtA2uXf"
      }
    },
    {
      "cell_type": "code",
      "source": [
        "df3=scaler.inverse_transform(df3).tolist()"
      ],
      "metadata": {
        "id": "bX-fGB7k10O4"
      },
      "execution_count": 149,
      "outputs": []
    },
    {
      "cell_type": "code",
      "source": [
        "prediction_5_month=plt.plot(df3)"
      ],
      "metadata": {
        "colab": {
          "base_uri": "https://localhost:8080/",
          "height": 265
        },
        "id": "zig7dszL18KH",
        "outputId": "d29f487f-cd40-44f1-df9f-c3d1024b788a"
      },
      "execution_count": 152,
      "outputs": [
        {
          "output_type": "display_data",
          "data": {
            "text/plain": [
              "<Figure size 432x288 with 1 Axes>"
            ],
            "image/png": "[encoded data removed]"
          },
          "metadata": {
            "needs_background": "light"
          }
        }
      ]
    },
    {
      "cell_type": "code",
      "source": [
        "original =plt.plot(df1)"
      ],
      "metadata": {
        "colab": {
          "base_uri": "https://localhost:8080/",
          "height": 265
        },
        "id": "-IWJ1JVE19C3",
        "outputId": "a634cf4a-bf10-425a-8ffa-60aca41dc18d"
      },
      "execution_count": 153,
      "outputs": [
        {
          "output_type": "display_data",
          "data": {
            "text/plain": [
              "<Figure size 432x288 with 1 Axes>"
            ],
            "image/png": "[encoded data removed]"
          },
          "metadata": {
            "needs_background": "light"
          }
        }
      ]
    }
  ],
  "metadata": {
    "colab": {
      "provenance": [],
      "include_colab_link": true
    },
    "kernelspec": {
      "display_name": "Python 3",
      "name": "python3"
    },
    "language_info": {
      "name": "python"
    }
  },
  "nbformat": 4,
  "nbformat_minor": 0
}