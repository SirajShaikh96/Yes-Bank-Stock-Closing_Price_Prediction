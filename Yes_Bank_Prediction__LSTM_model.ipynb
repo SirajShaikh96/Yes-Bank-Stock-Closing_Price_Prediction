{
  "cells": [
    {
      "cell_type": "markdown",
      "metadata": {
        "id": "view-in-github",
        "colab_type": "text"
      },
      "source": [
        "<a href=\"https://colab.research.google.com/github/sameersat96/Yes-Bank-Stock-Closing_Price_Prediction/blob/main/Yes_Bank_Prediction__LSTM_model.ipynb\" target=\"_parent\"><img src=\"https://colab.research.google.com/assets/colab-badge.svg\" alt=\"Open In Colab\"/></a>"
      ]
    },
    {
      "cell_type": "markdown",
      "metadata": {
        "id": "HgrYbbzvItLM"
      },
      "source": [
        "# **IMPORTING THE NECESSARY LIBRARIES**"
      ]
    },
    {
      "cell_type": "code",
      "execution_count": 7,
      "metadata": {
        "id": "EhMm9NR81rtK"
      },
      "outputs": [],
      "source": [
        "#Importing all the libarary\n",
        "\n",
        "import numpy as np\n",
        "import pandas as pd\n",
        "import matplotlib.pyplot as plt\n",
        "\n"
      ]
    },
    {
      "cell_type": "markdown",
      "metadata": {
        "id": "p2oa1t65JO6r"
      },
      "source": [
        "## **IMPORTING THE DATASET'S INTO OUR COLLAB NOTEBOOK**"
      ]
    },
    {
      "cell_type": "code",
      "execution_count": 2,
      "metadata": {
        "id": "xd1z5Tei2cnr",
        "colab": {
          "base_uri": "https://localhost:8080/"
        },
        "outputId": "cbe15b8f-1e10-4a71-9da4-caabd06091a7"
      },
      "outputs": [
        {
          "output_type": "stream",
          "name": "stdout",
          "text": [
            "Mounted at /content/drive\n"
          ]
        }
      ],
      "source": [
        "#Mounting the Drive\n",
        "from google.colab import drive\n",
        "drive.mount('/content/drive')"
      ]
    },
    {
      "cell_type": "markdown",
      "metadata": {
        "id": "EChlxBRbJf7T"
      },
      "source": [
        "*   Loading the data into the pandas data frame is certainly one of the most important steps in EDA, as we can see that the value from the data set is comma-separated"
      ]
    },
    {
      "cell_type": "code",
      "execution_count": 3,
      "metadata": {
        "id": "KMJVTMtv2fPP"
      },
      "outputs": [],
      "source": [
        "df_yesbank =  pd.read_csv(\"/content/drive/MyDrive/Colab Notebooks/CAPSTONE PROJECT/Yes bank stock closing price prediction - Sameer Satpute/Copy of data_YesBank_StockPrices.csv\")"
      ]
    },
    {
      "cell_type": "code",
      "execution_count": 4,
      "metadata": {
        "id": "7exrGmxW43-A",
        "colab": {
          "base_uri": "https://localhost:8080/"
        },
        "outputId": "08ad8d14-acbb-4e01-bac6-fcaf26d4ef46"
      },
      "outputs": [
        {
          "output_type": "execute_result",
          "data": {
            "text/plain": [
              "(185, 5)"
            ]
          },
          "metadata": {},
          "execution_count": 4
        }
      ],
      "source": [
        "#Shape of our dataset\n",
        "df_yesbank.shape"
      ]
    },
    {
      "cell_type": "markdown",
      "metadata": {
        "id": "CGdveGZ-Oh31"
      },
      "source": [
        "\n",
        "\n",
        "## **Knowing the dataset**\n",
        "Dataset contains Yes Bank stock monthly prices since it listed on stock exchange. \n",
        "\n",
        "Following are its features:-\n",
        "\n",
        "* **Date**: In our data its monthly observation of stock since it listed.\n",
        "* **Open**: The price a stock when the stock exchange open for the day.\n",
        "* **High**: The maximum price of a stock attain during given period of time.\n",
        "* **Low**: The minimum price of a stock attain during given period of time.\n",
        "* **Close**: The price of a stock when the stock exchange closed for the day.\n",
        "\n",
        "\n",
        "\n",
        "\n"
      ]
    },
    {
      "cell_type": "code",
      "execution_count": 5,
      "metadata": {
        "id": "hqgGJrcN2y_b",
        "colab": {
          "base_uri": "https://localhost:8080/",
          "height": 206
        },
        "outputId": "7f959c55-f6d4-426d-e574-040f6d0cb0e9"
      },
      "outputs": [
        {
          "output_type": "execute_result",
          "data": {
            "text/plain": [
              "     Date   Open   High    Low  Close\n",
              "0  Jul-05  13.00  14.00  11.25  12.46\n",
              "1  Aug-05  12.58  14.88  12.55  13.42\n",
              "2  Sep-05  13.48  14.87  12.27  13.30\n",
              "3  Oct-05  13.20  14.47  12.40  12.99\n",
              "4  Nov-05  13.35  13.88  12.88  13.41"
            ],
            "text/html": [
              "\n",
              "  <div id=\"df-a4682fb5-a359-4650-8fa2-b10963a4aca8\">\n",
              "    <div class=\"colab-df-container\">\n",
              "      <div>\n",
              "<style scoped>\n",
              "    .dataframe tbody tr th:only-of-type {\n",
              "        vertical-align: middle;\n",
              "    }\n",
              "\n",
              "    .dataframe tbody tr th {\n",
              "        vertical-align: top;\n",
              "    }\n",
              "\n",
              "    .dataframe thead th {\n",
              "        text-align: right;\n",
              "    }\n",
              "</style>\n",
              "<table border=\"1\" class=\"dataframe\">\n",
              "  <thead>\n",
              "    <tr style=\"text-align: right;\">\n",
              "      <th></th>\n",
              "      <th>Date</th>\n",
              "      <th>Open</th>\n",
              "      <th>High</th>\n",
              "      <th>Low</th>\n",
              "      <th>Close</th>\n",
              "    </tr>\n",
              "  </thead>\n",
              "  <tbody>\n",
              "    <tr>\n",
              "      <th>0</th>\n",
              "      <td>Jul-05</td>\n",
              "      <td>13.00</td>\n",
              "      <td>14.00</td>\n",
              "      <td>11.25</td>\n",
              "      <td>12.46</td>\n",
              "    </tr>\n",
              "    <tr>\n",
              "      <th>1</th>\n",
              "      <td>Aug-05</td>\n",
              "      <td>12.58</td>\n",
              "      <td>14.88</td>\n",
              "      <td>12.55</td>\n",
              "      <td>13.42</td>\n",
              "    </tr>\n",
              "    <tr>\n",
              "      <th>2</th>\n",
              "      <td>Sep-05</td>\n",
              "      <td>13.48</td>\n",
              "      <td>14.87</td>\n",
              "      <td>12.27</td>\n",
              "      <td>13.30</td>\n",
              "    </tr>\n",
              "    <tr>\n",
              "      <th>3</th>\n",
              "      <td>Oct-05</td>\n",
              "      <td>13.20</td>\n",
              "      <td>14.47</td>\n",
              "      <td>12.40</td>\n",
              "      <td>12.99</td>\n",
              "    </tr>\n",
              "    <tr>\n",
              "      <th>4</th>\n",
              "      <td>Nov-05</td>\n",
              "      <td>13.35</td>\n",
              "      <td>13.88</td>\n",
              "      <td>12.88</td>\n",
              "      <td>13.41</td>\n",
              "    </tr>\n",
              "  </tbody>\n",
              "</table>\n",
              "</div>\n",
              "      <button class=\"colab-df-convert\" onclick=\"convertToInteractive('df-a4682fb5-a359-4650-8fa2-b10963a4aca8')\"\n",
              "              title=\"Convert this dataframe to an interactive table.\"\n",
              "              style=\"display:none;\">\n",
              "        \n",
              "  <svg xmlns=\"http://www.w3.org/2000/svg\" height=\"24px\"viewBox=\"0 0 24 24\"\n",
              "       width=\"24px\">\n",
              "    <path d=\"M0 0h24v24H0V0z\" fill=\"none\"/>\n",
              "    <path d=\"M18.56 5.44l.94 2.06.94-2.06 2.06-.94-2.06-.94-.94-2.06-.94 2.06-2.06.94zm-11 1L8.5 8.5l.94-2.06 2.06-.94-2.06-.94L8.5 2.5l-.94 2.06-2.06.94zm10 10l.94 2.06.94-2.06 2.06-.94-2.06-.94-.94-2.06-.94 2.06-2.06.94z\"/><path d=\"M17.41 7.96l-1.37-1.37c-.4-.4-.92-.59-1.43-.59-.52 0-1.04.2-1.43.59L10.3 9.45l-7.72 7.72c-.78.78-.78 2.05 0 2.83L4 21.41c.39.39.9.59 1.41.59.51 0 1.02-.2 1.41-.59l7.78-7.78 2.81-2.81c.8-.78.8-2.07 0-2.86zM5.41 20L4 18.59l7.72-7.72 1.47 1.35L5.41 20z\"/>\n",
              "  </svg>\n",
              "      </button>\n",
              "      \n",
              "  <style>\n",
              "    .colab-df-container {\n",
              "      display:flex;\n",
              "      flex-wrap:wrap;\n",
              "      gap: 12px;\n",
              "    }\n",
              "\n",
              "    .colab-df-convert {\n",
              "      background-color: #E8F0FE;\n",
              "      border: none;\n",
              "      border-radius: 50%;\n",
              "      cursor: pointer;\n",
              "      display: none;\n",
              "      fill: #1967D2;\n",
              "      height: 32px;\n",
              "      padding: 0 0 0 0;\n",
              "      width: 32px;\n",
              "    }\n",
              "\n",
              "    .colab-df-convert:hover {\n",
              "      background-color: #E2EBFA;\n",
              "      box-shadow: 0px 1px 2px rgba(60, 64, 67, 0.3), 0px 1px 3px 1px rgba(60, 64, 67, 0.15);\n",
              "      fill: #174EA6;\n",
              "    }\n",
              "\n",
              "    [theme=dark] .colab-df-convert {\n",
              "      background-color: #3B4455;\n",
              "      fill: #D2E3FC;\n",
              "    }\n",
              "\n",
              "    [theme=dark] .colab-df-convert:hover {\n",
              "      background-color: #434B5C;\n",
              "      box-shadow: 0px 1px 3px 1px rgba(0, 0, 0, 0.15);\n",
              "      filter: drop-shadow(0px 1px 2px rgba(0, 0, 0, 0.3));\n",
              "      fill: #FFFFFF;\n",
              "    }\n",
              "  </style>\n",
              "\n",
              "      <script>\n",
              "        const buttonEl =\n",
              "          document.querySelector('#df-a4682fb5-a359-4650-8fa2-b10963a4aca8 button.colab-df-convert');\n",
              "        buttonEl.style.display =\n",
              "          google.colab.kernel.accessAllowed ? 'block' : 'none';\n",
              "\n",
              "        async function convertToInteractive(key) {\n",
              "          const element = document.querySelector('#df-a4682fb5-a359-4650-8fa2-b10963a4aca8');\n",
              "          const dataTable =\n",
              "            await google.colab.kernel.invokeFunction('convertToInteractive',\n",
              "                                                     [key], {});\n",
              "          if (!dataTable) return;\n",
              "\n",
              "          const docLinkHtml = 'Like what you see? Visit the ' +\n",
              "            '<a target=\"_blank\" href=https://colab.research.google.com/notebooks/data_table.ipynb>data table notebook</a>'\n",
              "            + ' to learn more about interactive tables.';\n",
              "          element.innerHTML = '';\n",
              "          dataTable['output_type'] = 'display_data';\n",
              "          await google.colab.output.renderOutput(dataTable, element);\n",
              "          const docLink = document.createElement('div');\n",
              "          docLink.innerHTML = docLinkHtml;\n",
              "          element.appendChild(docLink);\n",
              "        }\n",
              "      </script>\n",
              "    </div>\n",
              "  </div>\n",
              "  "
            ]
          },
          "metadata": {},
          "execution_count": 5
        }
      ],
      "source": [
        "#checking first five values of our dataset\n",
        "df_yesbank.head()"
      ]
    },
    {
      "cell_type": "code",
      "execution_count": 6,
      "metadata": {
        "id": "vqYzo-8g22AQ",
        "colab": {
          "base_uri": "https://localhost:8080/",
          "height": 206
        },
        "outputId": "08eeda97-a114-4b90-c9f4-cc99ebd947e5"
      },
      "outputs": [
        {
          "output_type": "execute_result",
          "data": {
            "text/plain": [
              "       Date   Open   High    Low  Close\n",
              "180  Jul-20  25.60  28.30  11.10  11.95\n",
              "181  Aug-20  12.00  17.16  11.85  14.37\n",
              "182  Sep-20  14.30  15.34  12.75  13.15\n",
              "183  Oct-20  13.30  14.01  12.11  12.42\n",
              "184  Nov-20  12.41  14.90  12.21  14.67"
            ],
            "text/html": [
              "\n",
              "  <div id=\"df-1d2f8f2c-204f-4b33-b4c0-97e44f239083\">\n",
              "    <div class=\"colab-df-container\">\n",
              "      <div>\n",
              "<style scoped>\n",
              "    .dataframe tbody tr th:only-of-type {\n",
              "        vertical-align: middle;\n",
              "    }\n",
              "\n",
              "    .dataframe tbody tr th {\n",
              "        vertical-align: top;\n",
              "    }\n",
              "\n",
              "    .dataframe thead th {\n",
              "        text-align: right;\n",
              "    }\n",
              "</style>\n",
              "<table border=\"1\" class=\"dataframe\">\n",
              "  <thead>\n",
              "    <tr style=\"text-align: right;\">\n",
              "      <th></th>\n",
              "      <th>Date</th>\n",
              "      <th>Open</th>\n",
              "      <th>High</th>\n",
              "      <th>Low</th>\n",
              "      <th>Close</th>\n",
              "    </tr>\n",
              "  </thead>\n",
              "  <tbody>\n",
              "    <tr>\n",
              "      <th>180</th>\n",
              "      <td>Jul-20</td>\n",
              "      <td>25.60</td>\n",
              "      <td>28.30</td>\n",
              "      <td>11.10</td>\n",
              "      <td>11.95</td>\n",
              "    </tr>\n",
              "    <tr>\n",
              "      <th>181</th>\n",
              "      <td>Aug-20</td>\n",
              "      <td>12.00</td>\n",
              "      <td>17.16</td>\n",
              "      <td>11.85</td>\n",
              "      <td>14.37</td>\n",
              "    </tr>\n",
              "    <tr>\n",
              "      <th>182</th>\n",
              "      <td>Sep-20</td>\n",
              "      <td>14.30</td>\n",
              "      <td>15.34</td>\n",
              "      <td>12.75</td>\n",
              "      <td>13.15</td>\n",
              "    </tr>\n",
              "    <tr>\n",
              "      <th>183</th>\n",
              "      <td>Oct-20</td>\n",
              "      <td>13.30</td>\n",
              "      <td>14.01</td>\n",
              "      <td>12.11</td>\n",
              "      <td>12.42</td>\n",
              "    </tr>\n",
              "    <tr>\n",
              "      <th>184</th>\n",
              "      <td>Nov-20</td>\n",
              "      <td>12.41</td>\n",
              "      <td>14.90</td>\n",
              "      <td>12.21</td>\n",
              "      <td>14.67</td>\n",
              "    </tr>\n",
              "  </tbody>\n",
              "</table>\n",
              "</div>\n",
              "      <button class=\"colab-df-convert\" onclick=\"convertToInteractive('df-1d2f8f2c-204f-4b33-b4c0-97e44f239083')\"\n",
              "              title=\"Convert this dataframe to an interactive table.\"\n",
              "              style=\"display:none;\">\n",
              "        \n",
              "  <svg xmlns=\"http://www.w3.org/2000/svg\" height=\"24px\"viewBox=\"0 0 24 24\"\n",
              "       width=\"24px\">\n",
              "    <path d=\"M0 0h24v24H0V0z\" fill=\"none\"/>\n",
              "    <path d=\"M18.56 5.44l.94 2.06.94-2.06 2.06-.94-2.06-.94-.94-2.06-.94 2.06-2.06.94zm-11 1L8.5 8.5l.94-2.06 2.06-.94-2.06-.94L8.5 2.5l-.94 2.06-2.06.94zm10 10l.94 2.06.94-2.06 2.06-.94-2.06-.94-.94-2.06-.94 2.06-2.06.94z\"/><path d=\"M17.41 7.96l-1.37-1.37c-.4-.4-.92-.59-1.43-.59-.52 0-1.04.2-1.43.59L10.3 9.45l-7.72 7.72c-.78.78-.78 2.05 0 2.83L4 21.41c.39.39.9.59 1.41.59.51 0 1.02-.2 1.41-.59l7.78-7.78 2.81-2.81c.8-.78.8-2.07 0-2.86zM5.41 20L4 18.59l7.72-7.72 1.47 1.35L5.41 20z\"/>\n",
              "  </svg>\n",
              "      </button>\n",
              "      \n",
              "  <style>\n",
              "    .colab-df-container {\n",
              "      display:flex;\n",
              "      flex-wrap:wrap;\n",
              "      gap: 12px;\n",
              "    }\n",
              "\n",
              "    .colab-df-convert {\n",
              "      background-color: #E8F0FE;\n",
              "      border: none;\n",
              "      border-radius: 50%;\n",
              "      cursor: pointer;\n",
              "      display: none;\n",
              "      fill: #1967D2;\n",
              "      height: 32px;\n",
              "      padding: 0 0 0 0;\n",
              "      width: 32px;\n",
              "    }\n",
              "\n",
              "    .colab-df-convert:hover {\n",
              "      background-color: #E2EBFA;\n",
              "      box-shadow: 0px 1px 2px rgba(60, 64, 67, 0.3), 0px 1px 3px 1px rgba(60, 64, 67, 0.15);\n",
              "      fill: #174EA6;\n",
              "    }\n",
              "\n",
              "    [theme=dark] .colab-df-convert {\n",
              "      background-color: #3B4455;\n",
              "      fill: #D2E3FC;\n",
              "    }\n",
              "\n",
              "    [theme=dark] .colab-df-convert:hover {\n",
              "      background-color: #434B5C;\n",
              "      box-shadow: 0px 1px 3px 1px rgba(0, 0, 0, 0.15);\n",
              "      filter: drop-shadow(0px 1px 2px rgba(0, 0, 0, 0.3));\n",
              "      fill: #FFFFFF;\n",
              "    }\n",
              "  </style>\n",
              "\n",
              "      <script>\n",
              "        const buttonEl =\n",
              "          document.querySelector('#df-1d2f8f2c-204f-4b33-b4c0-97e44f239083 button.colab-df-convert');\n",
              "        buttonEl.style.display =\n",
              "          google.colab.kernel.accessAllowed ? 'block' : 'none';\n",
              "\n",
              "        async function convertToInteractive(key) {\n",
              "          const element = document.querySelector('#df-1d2f8f2c-204f-4b33-b4c0-97e44f239083');\n",
              "          const dataTable =\n",
              "            await google.colab.kernel.invokeFunction('convertToInteractive',\n",
              "                                                     [key], {});\n",
              "          if (!dataTable) return;\n",
              "\n",
              "          const docLinkHtml = 'Like what you see? Visit the ' +\n",
              "            '<a target=\"_blank\" href=https://colab.research.google.com/notebooks/data_table.ipynb>data table notebook</a>'\n",
              "            + ' to learn more about interactive tables.';\n",
              "          element.innerHTML = '';\n",
              "          dataTable['output_type'] = 'display_data';\n",
              "          await google.colab.output.renderOutput(dataTable, element);\n",
              "          const docLink = document.createElement('div');\n",
              "          docLink.innerHTML = docLinkHtml;\n",
              "          element.appendChild(docLink);\n",
              "        }\n",
              "      </script>\n",
              "    </div>\n",
              "  </div>\n",
              "  "
            ]
          },
          "metadata": {},
          "execution_count": 6
        }
      ],
      "source": [
        "#Checking last five values  of our dataset\n",
        "df_yesbank.tail()"
      ]
    },
    {
      "cell_type": "code",
      "execution_count": null,
      "metadata": {
        "id": "iGQ4BbG63COy",
        "colab": {
          "base_uri": "https://localhost:8080/"
        },
        "outputId": "66ee94ed-7e9b-4a31-d1dc-59f795d038c6"
      },
      "outputs": [
        {
          "output_type": "stream",
          "name": "stdout",
          "text": [
            "<class 'pandas.core.frame.DataFrame'>\n",
            "RangeIndex: 185 entries, 0 to 184\n",
            "Data columns (total 5 columns):\n",
            " #   Column  Non-Null Count  Dtype  \n",
            "---  ------  --------------  -----  \n",
            " 0   Date    185 non-null    object \n",
            " 1   Open    185 non-null    float64\n",
            " 2   High    185 non-null    float64\n",
            " 3   Low     185 non-null    float64\n",
            " 4   Close   185 non-null    float64\n",
            "dtypes: float64(4), object(1)\n",
            "memory usage: 7.4+ KB\n"
          ]
        }
      ],
      "source": [
        "#Getting the concise summary of data\n",
        "df_yesbank.info()"
      ]
    },
    {
      "cell_type": "markdown",
      "metadata": {
        "id": "1IJ1HqrCJsni"
      },
      "source": [
        "From above we can conclude that:\n",
        "\n",
        "\n",
        "1.   The shape of our dataset is 185 rows and 5 columns\n",
        "2.   Datatype of Date is given as object which we need to change that to DateTime\n",
        "3.  Yes bank stock listed on month of july 2005.We have data available from july 2005 to november 2020\n",
        "\n"
      ]
    },
    {
      "cell_type": "markdown",
      "metadata": {
        "id": "txg_MMNaLAlw"
      },
      "source": [
        "### **Gettting Statistical Information about our dataset**"
      ]
    },
    {
      "cell_type": "code",
      "execution_count": null,
      "metadata": {
        "id": "m6jWJ7553ZMm",
        "colab": {
          "base_uri": "https://localhost:8080/",
          "height": 394
        },
        "outputId": "deeffb08-bd92-49a3-b5c0-389d88d6a347"
      },
      "outputs": [
        {
          "output_type": "execute_result",
          "data": {
            "text/plain": [
              "          Date        Open        High         Low       Close\n",
              "count      185  185.000000  185.000000  185.000000  185.000000\n",
              "unique     185         NaN         NaN         NaN         NaN\n",
              "top     Jul-05         NaN         NaN         NaN         NaN\n",
              "freq         1         NaN         NaN         NaN         NaN\n",
              "mean       NaN  105.541405  116.104324   94.947838  105.204703\n",
              "std        NaN   98.879850  106.333497   91.219415   98.583153\n",
              "min        NaN   10.000000   11.240000    5.550000    9.980000\n",
              "25%        NaN   33.800000   36.140000   28.510000   33.450000\n",
              "50%        NaN   62.980000   72.550000   58.000000   62.540000\n",
              "75%        NaN  153.000000  169.190000  138.350000  153.300000\n",
              "max        NaN  369.950000  404.000000  345.500000  367.900000"
            ],
            "text/html": [
              "\n",
              "  <div id=\"df-be804df5-1984-4848-aa9e-2c26eac1c595\">\n",
              "    <div class=\"colab-df-container\">\n",
              "      <div>\n",
              "<style scoped>\n",
              "    .dataframe tbody tr th:only-of-type {\n",
              "        vertical-align: middle;\n",
              "    }\n",
              "\n",
              "    .dataframe tbody tr th {\n",
              "        vertical-align: top;\n",
              "    }\n",
              "\n",
              "    .dataframe thead th {\n",
              "        text-align: right;\n",
              "    }\n",
              "</style>\n",
              "<table border=\"1\" class=\"dataframe\">\n",
              "  <thead>\n",
              "    <tr style=\"text-align: right;\">\n",
              "      <th></th>\n",
              "      <th>Date</th>\n",
              "      <th>Open</th>\n",
              "      <th>High</th>\n",
              "      <th>Low</th>\n",
              "      <th>Close</th>\n",
              "    </tr>\n",
              "  </thead>\n",
              "  <tbody>\n",
              "    <tr>\n",
              "      <th>count</th>\n",
              "      <td>185</td>\n",
              "      <td>185.000000</td>\n",
              "      <td>185.000000</td>\n",
              "      <td>185.000000</td>\n",
              "      <td>185.000000</td>\n",
              "    </tr>\n",
              "    <tr>\n",
              "      <th>unique</th>\n",
              "      <td>185</td>\n",
              "      <td>NaN</td>\n",
              "      <td>NaN</td>\n",
              "      <td>NaN</td>\n",
              "      <td>NaN</td>\n",
              "    </tr>\n",
              "    <tr>\n",
              "      <th>top</th>\n",
              "      <td>Jul-05</td>\n",
              "      <td>NaN</td>\n",
              "      <td>NaN</td>\n",
              "      <td>NaN</td>\n",
              "      <td>NaN</td>\n",
              "    </tr>\n",
              "    <tr>\n",
              "      <th>freq</th>\n",
              "      <td>1</td>\n",
              "      <td>NaN</td>\n",
              "      <td>NaN</td>\n",
              "      <td>NaN</td>\n",
              "      <td>NaN</td>\n",
              "    </tr>\n",
              "    <tr>\n",
              "      <th>mean</th>\n",
              "      <td>NaN</td>\n",
              "      <td>105.541405</td>\n",
              "      <td>116.104324</td>\n",
              "      <td>94.947838</td>\n",
              "      <td>105.204703</td>\n",
              "    </tr>\n",
              "    <tr>\n",
              "      <th>std</th>\n",
              "      <td>NaN</td>\n",
              "      <td>98.879850</td>\n",
              "      <td>106.333497</td>\n",
              "      <td>91.219415</td>\n",
              "      <td>98.583153</td>\n",
              "    </tr>\n",
              "    <tr>\n",
              "      <th>min</th>\n",
              "      <td>NaN</td>\n",
              "      <td>10.000000</td>\n",
              "      <td>11.240000</td>\n",
              "      <td>5.550000</td>\n",
              "      <td>9.980000</td>\n",
              "    </tr>\n",
              "    <tr>\n",
              "      <th>25%</th>\n",
              "      <td>NaN</td>\n",
              "      <td>33.800000</td>\n",
              "      <td>36.140000</td>\n",
              "      <td>28.510000</td>\n",
              "      <td>33.450000</td>\n",
              "    </tr>\n",
              "    <tr>\n",
              "      <th>50%</th>\n",
              "      <td>NaN</td>\n",
              "      <td>62.980000</td>\n",
              "      <td>72.550000</td>\n",
              "      <td>58.000000</td>\n",
              "      <td>62.540000</td>\n",
              "    </tr>\n",
              "    <tr>\n",
              "      <th>75%</th>\n",
              "      <td>NaN</td>\n",
              "      <td>153.000000</td>\n",
              "      <td>169.190000</td>\n",
              "      <td>138.350000</td>\n",
              "      <td>153.300000</td>\n",
              "    </tr>\n",
              "    <tr>\n",
              "      <th>max</th>\n",
              "      <td>NaN</td>\n",
              "      <td>369.950000</td>\n",
              "      <td>404.000000</td>\n",
              "      <td>345.500000</td>\n",
              "      <td>367.900000</td>\n",
              "    </tr>\n",
              "  </tbody>\n",
              "</table>\n",
              "</div>\n",
              "      <button class=\"colab-df-convert\" onclick=\"convertToInteractive('df-be804df5-1984-4848-aa9e-2c26eac1c595')\"\n",
              "              title=\"Convert this dataframe to an interactive table.\"\n",
              "              style=\"display:none;\">\n",
              "        \n",
              "  <svg xmlns=\"http://www.w3.org/2000/svg\" height=\"24px\"viewBox=\"0 0 24 24\"\n",
              "       width=\"24px\">\n",
              "    <path d=\"M0 0h24v24H0V0z\" fill=\"none\"/>\n",
              "    <path d=\"M18.56 5.44l.94 2.06.94-2.06 2.06-.94-2.06-.94-.94-2.06-.94 2.06-2.06.94zm-11 1L8.5 8.5l.94-2.06 2.06-.94-2.06-.94L8.5 2.5l-.94 2.06-2.06.94zm10 10l.94 2.06.94-2.06 2.06-.94-2.06-.94-.94-2.06-.94 2.06-2.06.94z\"/><path d=\"M17.41 7.96l-1.37-1.37c-.4-.4-.92-.59-1.43-.59-.52 0-1.04.2-1.43.59L10.3 9.45l-7.72 7.72c-.78.78-.78 2.05 0 2.83L4 21.41c.39.39.9.59 1.41.59.51 0 1.02-.2 1.41-.59l7.78-7.78 2.81-2.81c.8-.78.8-2.07 0-2.86zM5.41 20L4 18.59l7.72-7.72 1.47 1.35L5.41 20z\"/>\n",
              "  </svg>\n",
              "      </button>\n",
              "      \n",
              "  <style>\n",
              "    .colab-df-container {\n",
              "      display:flex;\n",
              "      flex-wrap:wrap;\n",
              "      gap: 12px;\n",
              "    }\n",
              "\n",
              "    .colab-df-convert {\n",
              "      background-color: #E8F0FE;\n",
              "      border: none;\n",
              "      border-radius: 50%;\n",
              "      cursor: pointer;\n",
              "      display: none;\n",
              "      fill: #1967D2;\n",
              "      height: 32px;\n",
              "      padding: 0 0 0 0;\n",
              "      width: 32px;\n",
              "    }\n",
              "\n",
              "    .colab-df-convert:hover {\n",
              "      background-color: #E2EBFA;\n",
              "      box-shadow: 0px 1px 2px rgba(60, 64, 67, 0.3), 0px 1px 3px 1px rgba(60, 64, 67, 0.15);\n",
              "      fill: #174EA6;\n",
              "    }\n",
              "\n",
              "    [theme=dark] .colab-df-convert {\n",
              "      background-color: #3B4455;\n",
              "      fill: #D2E3FC;\n",
              "    }\n",
              "\n",
              "    [theme=dark] .colab-df-convert:hover {\n",
              "      background-color: #434B5C;\n",
              "      box-shadow: 0px 1px 3px 1px rgba(0, 0, 0, 0.15);\n",
              "      filter: drop-shadow(0px 1px 2px rgba(0, 0, 0, 0.3));\n",
              "      fill: #FFFFFF;\n",
              "    }\n",
              "  </style>\n",
              "\n",
              "      <script>\n",
              "        const buttonEl =\n",
              "          document.querySelector('#df-be804df5-1984-4848-aa9e-2c26eac1c595 button.colab-df-convert');\n",
              "        buttonEl.style.display =\n",
              "          google.colab.kernel.accessAllowed ? 'block' : 'none';\n",
              "\n",
              "        async function convertToInteractive(key) {\n",
              "          const element = document.querySelector('#df-be804df5-1984-4848-aa9e-2c26eac1c595');\n",
              "          const dataTable =\n",
              "            await google.colab.kernel.invokeFunction('convertToInteractive',\n",
              "                                                     [key], {});\n",
              "          if (!dataTable) return;\n",
              "\n",
              "          const docLinkHtml = 'Like what you see? Visit the ' +\n",
              "            '<a target=\"_blank\" href=https://colab.research.google.com/notebooks/data_table.ipynb>data table notebook</a>'\n",
              "            + ' to learn more about interactive tables.';\n",
              "          element.innerHTML = '';\n",
              "          dataTable['output_type'] = 'display_data';\n",
              "          await google.colab.output.renderOutput(dataTable, element);\n",
              "          const docLink = document.createElement('div');\n",
              "          docLink.innerHTML = docLinkHtml;\n",
              "          element.appendChild(docLink);\n",
              "        }\n",
              "      </script>\n",
              "    </div>\n",
              "  </div>\n",
              "  "
            ]
          },
          "metadata": {},
          "execution_count": 8
        }
      ],
      "source": [
        "# Getting some statistical information\n",
        "df_yesbank.describe(include='all')"
      ]
    },
    {
      "cell_type": "markdown",
      "metadata": {
        "id": "idYpLb5aLNAq"
      },
      "source": [
        "From above statistical information we can see that it is not a normal distribution as mean and 50% values are having alot of difference"
      ]
    },
    {
      "cell_type": "markdown",
      "metadata": {
        "id": "gaTEngf0MSCT"
      },
      "source": [
        "## **DATA CLEANING**"
      ]
    },
    {
      "cell_type": "markdown",
      "metadata": {
        "id": "2q9_2Hy6MIIL"
      },
      "source": [
        "In data cleaning we will check for:\n",
        "\n",
        "\n",
        "1.   Null values/NaN values\n",
        "2.   Duplicates \n",
        "3.   Outlier Detection"
      ]
    },
    {
      "cell_type": "code",
      "execution_count": null,
      "metadata": {
        "id": "waZZ72rd3rPB",
        "colab": {
          "base_uri": "https://localhost:8080/"
        },
        "outputId": "7f605489-69e5-4905-e3bd-f395a82fcded"
      },
      "outputs": [
        {
          "output_type": "execute_result",
          "data": {
            "text/plain": [
              "0"
            ]
          },
          "metadata": {},
          "execution_count": 9
        }
      ],
      "source": [
        "#Check for duplicate values\n",
        "len(df_yesbank[df_yesbank.duplicated()])"
      ]
    },
    {
      "cell_type": "code",
      "execution_count": null,
      "metadata": {
        "id": "DOx4C_wG4FTf",
        "colab": {
          "base_uri": "https://localhost:8080/"
        },
        "outputId": "59440dd9-6818-40d3-8d04-febab432e79d"
      },
      "outputs": [
        {
          "output_type": "execute_result",
          "data": {
            "text/plain": [
              "Index(['Date', 'Open', 'High', 'Low', 'Close'], dtype='object')"
            ]
          },
          "metadata": {},
          "execution_count": 10
        }
      ],
      "source": [
        "#Check the columns present in dataset\n",
        "df_yesbank.columns"
      ]
    },
    {
      "cell_type": "code",
      "execution_count": null,
      "metadata": {
        "id": "9zFybvCM6BaY",
        "colab": {
          "base_uri": "https://localhost:8080/"
        },
        "outputId": "2dd29a3a-2563-415d-ba77-07754883d8bc"
      },
      "outputs": [
        {
          "output_type": "execute_result",
          "data": {
            "text/plain": [
              "Date     0\n",
              "Open     0\n",
              "High     0\n",
              "Low      0\n",
              "Close    0\n",
              "dtype: int64"
            ]
          },
          "metadata": {},
          "execution_count": 11
        }
      ],
      "source": [
        "#Check for null values in dataset\n",
        "df_yesbank.isnull().sum()"
      ]
    },
    {
      "cell_type": "markdown",
      "metadata": {
        "id": "hiNc4cA2MoSF"
      },
      "source": [
        "## **Data Type Correction**"
      ]
    },
    {
      "cell_type": "code",
      "execution_count": null,
      "metadata": {
        "id": "MMdlcGWZ4Ui8"
      },
      "outputs": [],
      "source": [
        "#Changing date colunn datatype to datetime format.\n",
        "from datetime import datetime\n",
        "\n",
        "#parsing date which is string of format %b-%y to datetime (%b for Month as locale’s abbreviated name and %y for Year without century as a zero-padded decimal number.\n",
        "df_yesbank['Date'] = df_yesbank['Date'].apply(lambda x: datetime.strptime(x, '%b-%y'))"
      ]
    },
    {
      "cell_type": "code",
      "execution_count": null,
      "metadata": {
        "id": "AkG0PDv-5UtX",
        "colab": {
          "base_uri": "https://localhost:8080/"
        },
        "outputId": "95b7f540-516e-4d3b-a2a9-c6674bc732fd"
      },
      "outputs": [
        {
          "output_type": "execute_result",
          "data": {
            "text/plain": [
              "Date     datetime64[ns]\n",
              "Open            float64\n",
              "High            float64\n",
              "Low             float64\n",
              "Close           float64\n",
              "dtype: object"
            ]
          },
          "metadata": {},
          "execution_count": 14
        }
      ],
      "source": [
        "#Check the datatype of the columns after changing datatype of date\n",
        "df_yesbank.dtypes"
      ]
    },
    {
      "cell_type": "markdown",
      "metadata": {
        "id": "X72AfFveEKw7"
      },
      "source": [
        "-----YES!!! datatype change into reqiured format"
      ]
    },
    {
      "cell_type": "code",
      "execution_count": null,
      "metadata": {
        "id": "PoUjYKhx6uWl",
        "colab": {
          "base_uri": "https://localhost:8080/",
          "height": 206
        },
        "outputId": "cba6a272-926d-47f4-c286-88532d65e0dc"
      },
      "outputs": [
        {
          "output_type": "execute_result",
          "data": {
            "text/plain": [
              "        Date   Open   High    Low  Close\n",
              "0 2005-07-01  13.00  14.00  11.25  12.46\n",
              "1 2005-08-01  12.58  14.88  12.55  13.42\n",
              "2 2005-09-01  13.48  14.87  12.27  13.30\n",
              "3 2005-10-01  13.20  14.47  12.40  12.99\n",
              "4 2005-11-01  13.35  13.88  12.88  13.41"
            ],
            "text/html": [
              "\n",
              "  <div id=\"df-016f30d4-6438-4b7e-84ed-958c3d2a3bc2\">\n",
              "    <div class=\"colab-df-container\">\n",
              "      <div>\n",
              "<style scoped>\n",
              "    .dataframe tbody tr th:only-of-type {\n",
              "        vertical-align: middle;\n",
              "    }\n",
              "\n",
              "    .dataframe tbody tr th {\n",
              "        vertical-align: top;\n",
              "    }\n",
              "\n",
              "    .dataframe thead th {\n",
              "        text-align: right;\n",
              "    }\n",
              "</style>\n",
              "<table border=\"1\" class=\"dataframe\">\n",
              "  <thead>\n",
              "    <tr style=\"text-align: right;\">\n",
              "      <th></th>\n",
              "      <th>Date</th>\n",
              "      <th>Open</th>\n",
              "      <th>High</th>\n",
              "      <th>Low</th>\n",
              "      <th>Close</th>\n",
              "    </tr>\n",
              "  </thead>\n",
              "  <tbody>\n",
              "    <tr>\n",
              "      <th>0</th>\n",
              "      <td>2005-07-01</td>\n",
              "      <td>13.00</td>\n",
              "      <td>14.00</td>\n",
              "      <td>11.25</td>\n",
              "      <td>12.46</td>\n",
              "    </tr>\n",
              "    <tr>\n",
              "      <th>1</th>\n",
              "      <td>2005-08-01</td>\n",
              "      <td>12.58</td>\n",
              "      <td>14.88</td>\n",
              "      <td>12.55</td>\n",
              "      <td>13.42</td>\n",
              "    </tr>\n",
              "    <tr>\n",
              "      <th>2</th>\n",
              "      <td>2005-09-01</td>\n",
              "      <td>13.48</td>\n",
              "      <td>14.87</td>\n",
              "      <td>12.27</td>\n",
              "      <td>13.30</td>\n",
              "    </tr>\n",
              "    <tr>\n",
              "      <th>3</th>\n",
              "      <td>2005-10-01</td>\n",
              "      <td>13.20</td>\n",
              "      <td>14.47</td>\n",
              "      <td>12.40</td>\n",
              "      <td>12.99</td>\n",
              "    </tr>\n",
              "    <tr>\n",
              "      <th>4</th>\n",
              "      <td>2005-11-01</td>\n",
              "      <td>13.35</td>\n",
              "      <td>13.88</td>\n",
              "      <td>12.88</td>\n",
              "      <td>13.41</td>\n",
              "    </tr>\n",
              "  </tbody>\n",
              "</table>\n",
              "</div>\n",
              "      <button class=\"colab-df-convert\" onclick=\"convertToInteractive('df-016f30d4-6438-4b7e-84ed-958c3d2a3bc2')\"\n",
              "              title=\"Convert this dataframe to an interactive table.\"\n",
              "              style=\"display:none;\">\n",
              "        \n",
              "  <svg xmlns=\"http://www.w3.org/2000/svg\" height=\"24px\"viewBox=\"0 0 24 24\"\n",
              "       width=\"24px\">\n",
              "    <path d=\"M0 0h24v24H0V0z\" fill=\"none\"/>\n",
              "    <path d=\"M18.56 5.44l.94 2.06.94-2.06 2.06-.94-2.06-.94-.94-2.06-.94 2.06-2.06.94zm-11 1L8.5 8.5l.94-2.06 2.06-.94-2.06-.94L8.5 2.5l-.94 2.06-2.06.94zm10 10l.94 2.06.94-2.06 2.06-.94-2.06-.94-.94-2.06-.94 2.06-2.06.94z\"/><path d=\"M17.41 7.96l-1.37-1.37c-.4-.4-.92-.59-1.43-.59-.52 0-1.04.2-1.43.59L10.3 9.45l-7.72 7.72c-.78.78-.78 2.05 0 2.83L4 21.41c.39.39.9.59 1.41.59.51 0 1.02-.2 1.41-.59l7.78-7.78 2.81-2.81c.8-.78.8-2.07 0-2.86zM5.41 20L4 18.59l7.72-7.72 1.47 1.35L5.41 20z\"/>\n",
              "  </svg>\n",
              "      </button>\n",
              "      \n",
              "  <style>\n",
              "    .colab-df-container {\n",
              "      display:flex;\n",
              "      flex-wrap:wrap;\n",
              "      gap: 12px;\n",
              "    }\n",
              "\n",
              "    .colab-df-convert {\n",
              "      background-color: #E8F0FE;\n",
              "      border: none;\n",
              "      border-radius: 50%;\n",
              "      cursor: pointer;\n",
              "      display: none;\n",
              "      fill: #1967D2;\n",
              "      height: 32px;\n",
              "      padding: 0 0 0 0;\n",
              "      width: 32px;\n",
              "    }\n",
              "\n",
              "    .colab-df-convert:hover {\n",
              "      background-color: #E2EBFA;\n",
              "      box-shadow: 0px 1px 2px rgba(60, 64, 67, 0.3), 0px 1px 3px 1px rgba(60, 64, 67, 0.15);\n",
              "      fill: #174EA6;\n",
              "    }\n",
              "\n",
              "    [theme=dark] .colab-df-convert {\n",
              "      background-color: #3B4455;\n",
              "      fill: #D2E3FC;\n",
              "    }\n",
              "\n",
              "    [theme=dark] .colab-df-convert:hover {\n",
              "      background-color: #434B5C;\n",
              "      box-shadow: 0px 1px 3px 1px rgba(0, 0, 0, 0.15);\n",
              "      filter: drop-shadow(0px 1px 2px rgba(0, 0, 0, 0.3));\n",
              "      fill: #FFFFFF;\n",
              "    }\n",
              "  </style>\n",
              "\n",
              "      <script>\n",
              "        const buttonEl =\n",
              "          document.querySelector('#df-016f30d4-6438-4b7e-84ed-958c3d2a3bc2 button.colab-df-convert');\n",
              "        buttonEl.style.display =\n",
              "          google.colab.kernel.accessAllowed ? 'block' : 'none';\n",
              "\n",
              "        async function convertToInteractive(key) {\n",
              "          const element = document.querySelector('#df-016f30d4-6438-4b7e-84ed-958c3d2a3bc2');\n",
              "          const dataTable =\n",
              "            await google.colab.kernel.invokeFunction('convertToInteractive',\n",
              "                                                     [key], {});\n",
              "          if (!dataTable) return;\n",
              "\n",
              "          const docLinkHtml = 'Like what you see? Visit the ' +\n",
              "            '<a target=\"_blank\" href=https://colab.research.google.com/notebooks/data_table.ipynb>data table notebook</a>'\n",
              "            + ' to learn more about interactive tables.';\n",
              "          element.innerHTML = '';\n",
              "          dataTable['output_type'] = 'display_data';\n",
              "          await google.colab.output.renderOutput(dataTable, element);\n",
              "          const docLink = document.createElement('div');\n",
              "          docLink.innerHTML = docLinkHtml;\n",
              "          element.appendChild(docLink);\n",
              "        }\n",
              "      </script>\n",
              "    </div>\n",
              "  </div>\n",
              "  "
            ]
          },
          "metadata": {},
          "execution_count": 15
        }
      ],
      "source": [
        "df_yesbank.head()"
      ]
    },
    {
      "cell_type": "code",
      "execution_count": null,
      "metadata": {
        "id": "XOup4o3AG9FF",
        "colab": {
          "base_uri": "https://localhost:8080/",
          "height": 206
        },
        "outputId": "bef4a63b-bf41-4adb-fd62-a59878d3c823"
      },
      "outputs": [
        {
          "output_type": "execute_result",
          "data": {
            "text/plain": [
              "          Date   Open   High    Low  Close\n",
              "180 2020-07-01  25.60  28.30  11.10  11.95\n",
              "181 2020-08-01  12.00  17.16  11.85  14.37\n",
              "182 2020-09-01  14.30  15.34  12.75  13.15\n",
              "183 2020-10-01  13.30  14.01  12.11  12.42\n",
              "184 2020-11-01  12.41  14.90  12.21  14.67"
            ],
            "text/html": [
              "\n",
              "  <div id=\"df-c6ddcc31-075d-4c15-936f-6679e7127752\">\n",
              "    <div class=\"colab-df-container\">\n",
              "      <div>\n",
              "<style scoped>\n",
              "    .dataframe tbody tr th:only-of-type {\n",
              "        vertical-align: middle;\n",
              "    }\n",
              "\n",
              "    .dataframe tbody tr th {\n",
              "        vertical-align: top;\n",
              "    }\n",
              "\n",
              "    .dataframe thead th {\n",
              "        text-align: right;\n",
              "    }\n",
              "</style>\n",
              "<table border=\"1\" class=\"dataframe\">\n",
              "  <thead>\n",
              "    <tr style=\"text-align: right;\">\n",
              "      <th></th>\n",
              "      <th>Date</th>\n",
              "      <th>Open</th>\n",
              "      <th>High</th>\n",
              "      <th>Low</th>\n",
              "      <th>Close</th>\n",
              "    </tr>\n",
              "  </thead>\n",
              "  <tbody>\n",
              "    <tr>\n",
              "      <th>180</th>\n",
              "      <td>2020-07-01</td>\n",
              "      <td>25.60</td>\n",
              "      <td>28.30</td>\n",
              "      <td>11.10</td>\n",
              "      <td>11.95</td>\n",
              "    </tr>\n",
              "    <tr>\n",
              "      <th>181</th>\n",
              "      <td>2020-08-01</td>\n",
              "      <td>12.00</td>\n",
              "      <td>17.16</td>\n",
              "      <td>11.85</td>\n",
              "      <td>14.37</td>\n",
              "    </tr>\n",
              "    <tr>\n",
              "      <th>182</th>\n",
              "      <td>2020-09-01</td>\n",
              "      <td>14.30</td>\n",
              "      <td>15.34</td>\n",
              "      <td>12.75</td>\n",
              "      <td>13.15</td>\n",
              "    </tr>\n",
              "    <tr>\n",
              "      <th>183</th>\n",
              "      <td>2020-10-01</td>\n",
              "      <td>13.30</td>\n",
              "      <td>14.01</td>\n",
              "      <td>12.11</td>\n",
              "      <td>12.42</td>\n",
              "    </tr>\n",
              "    <tr>\n",
              "      <th>184</th>\n",
              "      <td>2020-11-01</td>\n",
              "      <td>12.41</td>\n",
              "      <td>14.90</td>\n",
              "      <td>12.21</td>\n",
              "      <td>14.67</td>\n",
              "    </tr>\n",
              "  </tbody>\n",
              "</table>\n",
              "</div>\n",
              "      <button class=\"colab-df-convert\" onclick=\"convertToInteractive('df-c6ddcc31-075d-4c15-936f-6679e7127752')\"\n",
              "              title=\"Convert this dataframe to an interactive table.\"\n",
              "              style=\"display:none;\">\n",
              "        \n",
              "  <svg xmlns=\"http://www.w3.org/2000/svg\" height=\"24px\"viewBox=\"0 0 24 24\"\n",
              "       width=\"24px\">\n",
              "    <path d=\"M0 0h24v24H0V0z\" fill=\"none\"/>\n",
              "    <path d=\"M18.56 5.44l.94 2.06.94-2.06 2.06-.94-2.06-.94-.94-2.06-.94 2.06-2.06.94zm-11 1L8.5 8.5l.94-2.06 2.06-.94-2.06-.94L8.5 2.5l-.94 2.06-2.06.94zm10 10l.94 2.06.94-2.06 2.06-.94-2.06-.94-.94-2.06-.94 2.06-2.06.94z\"/><path d=\"M17.41 7.96l-1.37-1.37c-.4-.4-.92-.59-1.43-.59-.52 0-1.04.2-1.43.59L10.3 9.45l-7.72 7.72c-.78.78-.78 2.05 0 2.83L4 21.41c.39.39.9.59 1.41.59.51 0 1.02-.2 1.41-.59l7.78-7.78 2.81-2.81c.8-.78.8-2.07 0-2.86zM5.41 20L4 18.59l7.72-7.72 1.47 1.35L5.41 20z\"/>\n",
              "  </svg>\n",
              "      </button>\n",
              "      \n",
              "  <style>\n",
              "    .colab-df-container {\n",
              "      display:flex;\n",
              "      flex-wrap:wrap;\n",
              "      gap: 12px;\n",
              "    }\n",
              "\n",
              "    .colab-df-convert {\n",
              "      background-color: #E8F0FE;\n",
              "      border: none;\n",
              "      border-radius: 50%;\n",
              "      cursor: pointer;\n",
              "      display: none;\n",
              "      fill: #1967D2;\n",
              "      height: 32px;\n",
              "      padding: 0 0 0 0;\n",
              "      width: 32px;\n",
              "    }\n",
              "\n",
              "    .colab-df-convert:hover {\n",
              "      background-color: #E2EBFA;\n",
              "      box-shadow: 0px 1px 2px rgba(60, 64, 67, 0.3), 0px 1px 3px 1px rgba(60, 64, 67, 0.15);\n",
              "      fill: #174EA6;\n",
              "    }\n",
              "\n",
              "    [theme=dark] .colab-df-convert {\n",
              "      background-color: #3B4455;\n",
              "      fill: #D2E3FC;\n",
              "    }\n",
              "\n",
              "    [theme=dark] .colab-df-convert:hover {\n",
              "      background-color: #434B5C;\n",
              "      box-shadow: 0px 1px 3px 1px rgba(0, 0, 0, 0.15);\n",
              "      filter: drop-shadow(0px 1px 2px rgba(0, 0, 0, 0.3));\n",
              "      fill: #FFFFFF;\n",
              "    }\n",
              "  </style>\n",
              "\n",
              "      <script>\n",
              "        const buttonEl =\n",
              "          document.querySelector('#df-c6ddcc31-075d-4c15-936f-6679e7127752 button.colab-df-convert');\n",
              "        buttonEl.style.display =\n",
              "          google.colab.kernel.accessAllowed ? 'block' : 'none';\n",
              "\n",
              "        async function convertToInteractive(key) {\n",
              "          const element = document.querySelector('#df-c6ddcc31-075d-4c15-936f-6679e7127752');\n",
              "          const dataTable =\n",
              "            await google.colab.kernel.invokeFunction('convertToInteractive',\n",
              "                                                     [key], {});\n",
              "          if (!dataTable) return;\n",
              "\n",
              "          const docLinkHtml = 'Like what you see? Visit the ' +\n",
              "            '<a target=\"_blank\" href=https://colab.research.google.com/notebooks/data_table.ipynb>data table notebook</a>'\n",
              "            + ' to learn more about interactive tables.';\n",
              "          element.innerHTML = '';\n",
              "          dataTable['output_type'] = 'display_data';\n",
              "          await google.colab.output.renderOutput(dataTable, element);\n",
              "          const docLink = document.createElement('div');\n",
              "          docLink.innerHTML = docLinkHtml;\n",
              "          element.appendChild(docLink);\n",
              "        }\n",
              "      </script>\n",
              "    </div>\n",
              "  </div>\n",
              "  "
            ]
          },
          "metadata": {},
          "execution_count": 16
        }
      ],
      "source": [
        "df_yesbank.tail()"
      ]
    },
    {
      "cell_type": "code",
      "source": [
        "df1=df_yesbank.reset_index()['Close']"
      ],
      "metadata": {
        "id": "m8U3KaBvlcfx"
      },
      "execution_count": 9,
      "outputs": []
    },
    {
      "cell_type": "code",
      "source": [
        "df1"
      ],
      "metadata": {
        "colab": {
          "base_uri": "https://localhost:8080/"
        },
        "id": "cUKRFH7_lck6",
        "outputId": "c2acd924-e43d-4dc0-c5ca-25e0dd22000b"
      },
      "execution_count": 10,
      "outputs": [
        {
          "output_type": "execute_result",
          "data": {
            "text/plain": [
              "0      12.46\n",
              "1      13.42\n",
              "2      13.30\n",
              "3      12.99\n",
              "4      13.41\n",
              "       ...  \n",
              "180    11.95\n",
              "181    14.37\n",
              "182    13.15\n",
              "183    12.42\n",
              "184    14.67\n",
              "Name: Close, Length: 185, dtype: float64"
            ]
          },
          "metadata": {},
          "execution_count": 10
        }
      ]
    },
    {
      "cell_type": "code",
      "source": [
        "plt.plot(df1)"
      ],
      "metadata": {
        "colab": {
          "base_uri": "https://localhost:8080/",
          "height": 282
        },
        "id": "n4rUuAculmJn",
        "outputId": "e8719c2d-5b7f-47f5-85c2-0184051e9b5d"
      },
      "execution_count": 11,
      "outputs": [
        {
          "output_type": "execute_result",
          "data": {
            "text/plain": [
              "[<matplotlib.lines.Line2D at 0x7fb9a4573350>]"
            ]
          },
          "metadata": {},
          "execution_count": 11
        },
        {
          "output_type": "display_data",
          "data": {
            "text/plain": [
              "<Figure size 432x288 with 1 Axes>"
            ],
            "image/png": "[encoded data removed]"
          },
          "metadata": {
            "needs_background": "light"
          }
        }
      ]
    },
    {
      "cell_type": "markdown",
      "source": [
        "### LSTM are sensitive to the scale of the data. so we apply MinMax scaler "
      ],
      "metadata": {
        "id": "WfgkGjVmltZ_"
      }
    },
    {
      "cell_type": "code",
      "source": [
        "from sklearn.preprocessing import MinMaxScaler\n",
        "scaler=MinMaxScaler(feature_range=(0,1))\n",
        "df1=scaler.fit_transform(np.array(df1).reshape(-1,1))"
      ],
      "metadata": {
        "id": "G1tnHHz7lpwf"
      },
      "execution_count": 12,
      "outputs": []
    },
    {
      "cell_type": "code",
      "source": [
        "print(df1)"
      ],
      "metadata": {
        "colab": {
          "base_uri": "https://localhost:8080/"
        },
        "id": "bgq2zVq7lym2",
        "outputId": "b5779a51-a4ba-4fa1-d416-6f264e6be3f8"
      },
      "execution_count": 13,
      "outputs": [
        {
          "output_type": "stream",
          "name": "stdout",
          "text": [
            "[[6.92892266e-03]\n",
            " [9.61108628e-03]\n",
            " [9.27581582e-03]\n",
            " [8.40970049e-03]\n",
            " [9.58314707e-03]\n",
            " [1.04213232e-02]\n",
            " [1.49474743e-02]\n",
            " [1.71546714e-02]\n",
            " [2.82185963e-02]\n",
            " [2.65701833e-02]\n",
            " [2.24910595e-02]\n",
            " [1.57577112e-02]\n",
            " [1.72664283e-02]\n",
            " [2.19602146e-02]\n",
            " [2.36924452e-02]\n",
            " [3.57621815e-02]\n",
            " [4.28587394e-02]\n",
            " [4.74687081e-02]\n",
            " [5.63813143e-02]\n",
            " [5.21066160e-02]\n",
            " [5.07375950e-02]\n",
            " [5.68004023e-02]\n",
            " [6.57409477e-02]\n",
            " [7.26419312e-02]\n",
            " [7.80900760e-02]\n",
            " [7.54637908e-02]\n",
            " [8.76732231e-02]\n",
            " [9.35963344e-02]\n",
            " [1.01139920e-01]\n",
            " [1.11281851e-01]\n",
            " [1.13321413e-01]\n",
            " [1.10192222e-01]\n",
            " [6.64114886e-02]\n",
            " [6.72776039e-02]\n",
            " [5.90914171e-02]\n",
            " [3.59577559e-02]\n",
            " [4.32219490e-02]\n",
            " [4.70775592e-02]\n",
            " [3.95339741e-02]\n",
            " [1.00581135e-02]\n",
            " [6.37013858e-03]\n",
            " [1.41092982e-02]\n",
            " [6.31426017e-03]\n",
            " [7.82297720e-04]\n",
            " [0.00000000e+00]\n",
            " [1.52827447e-02]\n",
            " [4.22999553e-02]\n",
            " [5.50402325e-02]\n",
            " [6.13265534e-02]\n",
            " [6.55733125e-02]\n",
            " [8.66394725e-02]\n",
            " [1.04297050e-01]\n",
            " [1.13405230e-01]\n",
            " [1.21339964e-01]\n",
            " [1.11365668e-01]\n",
            " [1.04324989e-01]\n",
            " [1.14522798e-01]\n",
            " [1.31649531e-01]\n",
            " [1.32962673e-01]\n",
            " [1.22513411e-01]\n",
            " [1.36930040e-01]\n",
            " [1.45954403e-01]\n",
            " [1.68529280e-01]\n",
            " [1.72887796e-01]\n",
            " [1.43132544e-01]\n",
            " [1.46848458e-01]\n",
            " [1.19048949e-01]\n",
            " [1.15416853e-01]\n",
            " [1.45283862e-01]\n",
            " [1.42601699e-01]\n",
            " [1.39947474e-01]\n",
            " [1.46401430e-01]\n",
            " [1.45702950e-01]\n",
            " [1.27486589e-01]\n",
            " [1.24385338e-01]\n",
            " [1.47854269e-01]\n",
            " [1.24357398e-01]\n",
            " [1.05442557e-01]\n",
            " [1.56487483e-01]\n",
            " [1.65288333e-01]\n",
            " [1.77358069e-01]\n",
            " [1.67886679e-01]\n",
            " [1.56571301e-01]\n",
            " [1.61628297e-01]\n",
            " [1.75653777e-01]\n",
            " [1.56431605e-01]\n",
            " [1.85683952e-01]\n",
            " [2.02028386e-01]\n",
            " [2.19322754e-01]\n",
            " [2.31504247e-01]\n",
            " [2.63829906e-01]\n",
            " [2.36142155e-01]\n",
            " [2.11583594e-01]\n",
            " [2.52291015e-01]\n",
            " [2.44495977e-01]\n",
            " [2.29716138e-01]\n",
            " [1.53050961e-01]\n",
            " [1.08040903e-01]\n",
            " [1.32767099e-01]\n",
            " [1.78196245e-01]\n",
            " [1.78140367e-01]\n",
            " [1.78922664e-01]\n",
            " [1.44194233e-01]\n",
            " [1.42406124e-01]\n",
            " [2.03173894e-01]\n",
            " [2.18372821e-01]\n",
            " [2.90316272e-01]\n",
            " [2.74921770e-01]\n",
            " [2.74446804e-01]\n",
            " [2.91545597e-01]\n",
            " [2.84197586e-01]\n",
            " [3.54408806e-01]\n",
            " [3.69076889e-01]\n",
            " [4.03972955e-01]\n",
            " [4.54067948e-01]\n",
            " [4.54207644e-01]\n",
            " [4.28391819e-01]\n",
            " [4.41383549e-01]\n",
            " [4.65299508e-01]\n",
            " [4.43171658e-01]\n",
            " [4.35181046e-01]\n",
            " [3.57398301e-01]\n",
            " [3.79805543e-01]\n",
            " [3.96289674e-01]\n",
            " [4.00424676e-01]\n",
            " [3.77877738e-01]\n",
            " [3.89472508e-01]\n",
            " [3.56755700e-01]\n",
            " [4.55213456e-01]\n",
            " [4.99413277e-01]\n",
            " [5.48753911e-01]\n",
            " [5.90411265e-01]\n",
            " [6.52268663e-01]\n",
            " [7.33627626e-01]\n",
            " [6.72971614e-01]\n",
            " [6.80431381e-01]\n",
            " [6.26676352e-01]\n",
            " [6.18238713e-01]\n",
            " [7.51899866e-01]\n",
            " [7.83918194e-01]\n",
            " [8.37729101e-01]\n",
            " [8.83325883e-01]\n",
            " [7.72239607e-01]\n",
            " [7.88975190e-01]\n",
            " [9.83404113e-01]\n",
            " [9.53201833e-01]\n",
            " [9.49988824e-01]\n",
            " [8.50385561e-01]\n",
            " [8.29291462e-01]\n",
            " [8.52341305e-01]\n",
            " [9.62421770e-01]\n",
            " [8.72457532e-01]\n",
            " [8.23983013e-01]\n",
            " [9.83655565e-01]\n",
            " [9.39371927e-01]\n",
            " [9.20932052e-01]\n",
            " [1.00000000e+00]\n",
            " [9.31548949e-01]\n",
            " [4.84661377e-01]\n",
            " [4.97513411e-01]\n",
            " [4.46105275e-01]\n",
            " [4.79911712e-01]\n",
            " [5.14975414e-01]\n",
            " [6.18071077e-01]\n",
            " [7.40584488e-01]\n",
            " [4.41495306e-01]\n",
            " [3.85477202e-01]\n",
            " [2.75815825e-01]\n",
            " [2.27201609e-01]\n",
            " [1.38354940e-01]\n",
            " [8.79246759e-02]\n",
            " [1.68948368e-01]\n",
            " [1.62941439e-01]\n",
            " [1.03291238e-01]\n",
            " [8.16383549e-02]\n",
            " [6.86466249e-02]\n",
            " [3.48401878e-02]\n",
            " [5.02067501e-02]\n",
            " [4.71334376e-02]\n",
            " [4.36410371e-02]\n",
            " [5.50402325e-03]\n",
            " [1.22653107e-02]\n",
            " [8.85672776e-03]\n",
            " [6.81716585e-03]\n",
            " [1.31034868e-02]]\n"
          ]
        }
      ]
    },
    {
      "cell_type": "code",
      "source": [
        "##splitting dataset into train and test split\n",
        "training_size=int(len(df1)*0.65)\n",
        "test_size=len(df1)-training_size\n",
        "train_data,test_data=df1[0:training_size,:],df1[training_size:len(df1),:1]"
      ],
      "metadata": {
        "id": "wCm9NDVSlypo"
      },
      "execution_count": 14,
      "outputs": []
    },
    {
      "cell_type": "code",
      "source": [
        "training_size,test_size"
      ],
      "metadata": {
        "colab": {
          "base_uri": "https://localhost:8080/"
        },
        "id": "_CuMdjEsl64K",
        "outputId": "8f13644a-38ff-45de-fa46-0d54a45a0ad9"
      },
      "execution_count": 15,
      "outputs": [
        {
          "output_type": "execute_result",
          "data": {
            "text/plain": [
              "(120, 65)"
            ]
          },
          "metadata": {},
          "execution_count": 15
        }
      ]
    },
    {
      "cell_type": "code",
      "source": [
        "def create_dataset(dataset, time_step=1):\n",
        "\tdataX, dataY = [], []\n",
        "\tfor i in range(len(dataset)-time_step-1):\n",
        "\t\ta = dataset[i:(i+time_step), 0]   ###i=0, 0,1,2,3-----99   100 \n",
        "\t\tdataX.append(a)\n",
        "\t\tdataY.append(dataset[i + time_step, 0])\n",
        "\treturn numpy.array(dataX), numpy.array(dataY)"
      ],
      "metadata": {
        "id": "i-O2iWMYl66m"
      },
      "execution_count": 16,
      "outputs": []
    },
    {
      "cell_type": "code",
      "source": [
        "import numpy\n",
        "#reshape into X=t,t+1,t+2,t+3 and Y=t+4\n",
        "time_step = 30\n",
        "X_train, y_train = create_dataset(train_data, time_step)\n",
        "X_test, ytest = create_dataset(test_data, time_step)"
      ],
      "metadata": {
        "id": "bcLvAavzmLOF"
      },
      "execution_count": 31,
      "outputs": []
    },
    {
      "cell_type": "code",
      "source": [
        "print(X_train.shape), print(y_train.shape)"
      ],
      "metadata": {
        "colab": {
          "base_uri": "https://localhost:8080/"
        },
        "id": "Rp-CzLb-mStd",
        "outputId": "5eeed0cb-bdd5-4fde-e27b-d52d8daad0d0"
      },
      "execution_count": 32,
      "outputs": [
        {
          "output_type": "stream",
          "name": "stdout",
          "text": [
            "(89, 30)\n",
            "(89,)\n"
          ]
        },
        {
          "output_type": "execute_result",
          "data": {
            "text/plain": [
              "(None, None)"
            ]
          },
          "metadata": {},
          "execution_count": 32
        }
      ]
    },
    {
      "cell_type": "code",
      "source": [
        "print(X_test.shape), print(ytest.shape)"
      ],
      "metadata": {
        "colab": {
          "base_uri": "https://localhost:8080/"
        },
        "id": "NimsmBfznZ3j",
        "outputId": "c61a44cc-e2d9-4138-f46c-d963b1e1e289"
      },
      "execution_count": 33,
      "outputs": [
        {
          "output_type": "stream",
          "name": "stdout",
          "text": [
            "(34, 30)\n",
            "(34,)\n"
          ]
        },
        {
          "output_type": "execute_result",
          "data": {
            "text/plain": [
              "(None, None)"
            ]
          },
          "metadata": {},
          "execution_count": 33
        }
      ]
    },
    {
      "cell_type": "code",
      "source": [
        "# reshape input to be [samples, time steps, features] which is required for LSTM\n",
        "X_train =X_train.reshape(X_train.shape[0],X_train.shape[1] , 1)\n",
        "X_test = X_test.reshape(X_test.shape[0],X_test.shape[1] , 1)"
      ],
      "metadata": {
        "id": "n7mSTUl0m3Uk"
      },
      "execution_count": 34,
      "outputs": []
    },
    {
      "cell_type": "code",
      "source": [
        "### Create the Stacked LSTM model\n",
        "from tensorflow.keras.models import Sequential\n",
        "from tensorflow.keras.layers import Dense\n",
        "from tensorflow.keras.layers import LSTM"
      ],
      "metadata": {
        "id": "EYJtLECOnxy9"
      },
      "execution_count": 35,
      "outputs": []
    },
    {
      "cell_type": "code",
      "source": [
        "model=Sequential()\n",
        "model.add(LSTM(50,return_sequences=True,input_shape=(30,1)))\n",
        "model.add(LSTM(50,return_sequences=True))\n",
        "model.add(LSTM(50))\n",
        "model.add(Dense(1))\n",
        "model.compile(loss='mean_squared_error',optimizer='adam')"
      ],
      "metadata": {
        "id": "HcWls0O5nx4S"
      },
      "execution_count": 37,
      "outputs": []
    },
    {
      "cell_type": "code",
      "source": [
        "model.summary()"
      ],
      "metadata": {
        "colab": {
          "base_uri": "https://localhost:8080/"
        },
        "id": "Sn_a7vzynx-d",
        "outputId": "c1053850-a478-498a-9827-4ed2571f1ca1"
      },
      "execution_count": 39,
      "outputs": [
        {
          "output_type": "stream",
          "name": "stdout",
          "text": [
            "Model: \"sequential_1\"\n",
            "_________________________________________________________________\n",
            " Layer (type)                Output Shape              Param #   \n",
            "=================================================================\n",
            " lstm_3 (LSTM)               (None, 30, 50)            10400     \n",
            "                                                                 \n",
            " lstm_4 (LSTM)               (None, 30, 50)            20200     \n",
            "                                                                 \n",
            " lstm_5 (LSTM)               (None, 50)                20200     \n",
            "                                                                 \n",
            " dense_1 (Dense)             (None, 1)                 51        \n",
            "                                                                 \n",
            "=================================================================\n",
            "Total params: 50,851\n",
            "Trainable params: 50,851\n",
            "Non-trainable params: 0\n",
            "_________________________________________________________________\n"
          ]
        }
      ]
    },
    {
      "cell_type": "code",
      "source": [
        "model.fit(X_train,y_train,validation_data=(X_test,ytest),epochs=100,batch_size=64,verbose=1)"
      ],
      "metadata": {
        "colab": {
          "base_uri": "https://localhost:8080/"
        },
        "id": "hAFM3UDqoVnQ",
        "outputId": "6cc852cd-ff09-4fd9-89bc-7aef494e1e07"
      },
      "execution_count": 40,
      "outputs": [
        {
          "output_type": "stream",
          "name": "stdout",
          "text": [
            "Epoch 1/100\n",
            "2/2 [==============================] - 7s 1s/step - loss: 0.0439 - val_loss: 0.2253\n",
            "Epoch 2/100\n",
            "2/2 [==============================] - 0s 71ms/step - loss: 0.0251 - val_loss: 0.1264\n",
            "Epoch 3/100\n",
            "2/2 [==============================] - 0s 79ms/step - loss: 0.0123 - val_loss: 0.0916\n",
            "Epoch 4/100\n",
            "2/2 [==============================] - 0s 74ms/step - loss: 0.0074 - val_loss: 0.1718\n",
            "Epoch 5/100\n",
            "2/2 [==============================] - 0s 68ms/step - loss: 0.0119 - val_loss: 0.1421\n",
            "Epoch 6/100\n",
            "2/2 [==============================] - 0s 99ms/step - loss: 0.0088 - val_loss: 0.0902\n",
            "Epoch 7/100\n",
            "2/2 [==============================] - 0s 66ms/step - loss: 0.0061 - val_loss: 0.0715\n",
            "Epoch 8/100\n",
            "2/2 [==============================] - 0s 73ms/step - loss: 0.0072 - val_loss: 0.0672\n",
            "Epoch 9/100\n",
            "2/2 [==============================] - 0s 66ms/step - loss: 0.0080 - val_loss: 0.0660\n",
            "Epoch 10/100\n",
            "2/2 [==============================] - 0s 70ms/step - loss: 0.0074 - val_loss: 0.0738\n",
            "Epoch 11/100\n",
            "2/2 [==============================] - 0s 66ms/step - loss: 0.0062 - val_loss: 0.1047\n",
            "Epoch 12/100\n",
            "2/2 [==============================] - 0s 70ms/step - loss: 0.0053 - val_loss: 0.1611\n",
            "Epoch 13/100\n",
            "2/2 [==============================] - 0s 67ms/step - loss: 0.0051 - val_loss: 0.2112\n",
            "Epoch 14/100\n",
            "2/2 [==============================] - 0s 67ms/step - loss: 0.0050 - val_loss: 0.2290\n",
            "Epoch 15/100\n",
            "2/2 [==============================] - 0s 70ms/step - loss: 0.0045 - val_loss: 0.2378\n",
            "Epoch 16/100\n",
            "2/2 [==============================] - 0s 66ms/step - loss: 0.0041 - val_loss: 0.2745\n",
            "Epoch 17/100\n",
            "2/2 [==============================] - 0s 66ms/step - loss: 0.0041 - val_loss: 0.3703\n",
            "Epoch 18/100\n",
            "2/2 [==============================] - 0s 70ms/step - loss: 0.0040 - val_loss: 0.5280\n",
            "Epoch 19/100\n",
            "2/2 [==============================] - 0s 66ms/step - loss: 0.0038 - val_loss: 0.6941\n",
            "Epoch 20/100\n",
            "2/2 [==============================] - 0s 66ms/step - loss: 0.0038 - val_loss: 0.8173\n",
            "Epoch 21/100\n",
            "2/2 [==============================] - 0s 69ms/step - loss: 0.0038 - val_loss: 0.8330\n",
            "Epoch 22/100\n",
            "2/2 [==============================] - 0s 67ms/step - loss: 0.0038 - val_loss: 0.7700\n",
            "Epoch 23/100\n",
            "2/2 [==============================] - 0s 64ms/step - loss: 0.0038 - val_loss: 0.7736\n",
            "Epoch 24/100\n",
            "2/2 [==============================] - 0s 66ms/step - loss: 0.0037 - val_loss: 0.8401\n",
            "Epoch 25/100\n",
            "2/2 [==============================] - 0s 68ms/step - loss: 0.0036 - val_loss: 0.8879\n",
            "Epoch 26/100\n",
            "2/2 [==============================] - 0s 66ms/step - loss: 0.0036 - val_loss: 0.9009\n",
            "Epoch 27/100\n",
            "2/2 [==============================] - 0s 68ms/step - loss: 0.0035 - val_loss: 0.9014\n",
            "Epoch 28/100\n",
            "2/2 [==============================] - 0s 65ms/step - loss: 0.0035 - val_loss: 0.8815\n",
            "Epoch 29/100\n",
            "2/2 [==============================] - 0s 65ms/step - loss: 0.0034 - val_loss: 0.9327\n",
            "Epoch 30/100\n",
            "2/2 [==============================] - 0s 66ms/step - loss: 0.0034 - val_loss: 1.0053\n",
            "Epoch 31/100\n",
            "2/2 [==============================] - 0s 68ms/step - loss: 0.0034 - val_loss: 1.1121\n",
            "Epoch 32/100\n",
            "2/2 [==============================] - 0s 66ms/step - loss: 0.0033 - val_loss: 1.2800\n",
            "Epoch 33/100\n",
            "2/2 [==============================] - 0s 65ms/step - loss: 0.0033 - val_loss: 1.4097\n",
            "Epoch 34/100\n",
            "2/2 [==============================] - 0s 68ms/step - loss: 0.0033 - val_loss: 1.3669\n",
            "Epoch 35/100\n",
            "2/2 [==============================] - 0s 75ms/step - loss: 0.0033 - val_loss: 1.4423\n",
            "Epoch 36/100\n",
            "2/2 [==============================] - 0s 66ms/step - loss: 0.0032 - val_loss: 1.7789\n",
            "Epoch 37/100\n",
            "2/2 [==============================] - 0s 66ms/step - loss: 0.0032 - val_loss: 1.9900\n",
            "Epoch 38/100\n",
            "2/2 [==============================] - 0s 68ms/step - loss: 0.0032 - val_loss: 2.0430\n",
            "Epoch 39/100\n",
            "2/2 [==============================] - 0s 68ms/step - loss: 0.0031 - val_loss: 2.0782\n",
            "Epoch 40/100\n",
            "2/2 [==============================] - 0s 70ms/step - loss: 0.0031 - val_loss: 2.1300\n",
            "Epoch 41/100\n",
            "2/2 [==============================] - 0s 69ms/step - loss: 0.0031 - val_loss: 2.4695\n",
            "Epoch 42/100\n",
            "2/2 [==============================] - 0s 70ms/step - loss: 0.0030 - val_loss: 2.7544\n",
            "Epoch 43/100\n",
            "2/2 [==============================] - 0s 70ms/step - loss: 0.0030 - val_loss: 2.7791\n",
            "Epoch 44/100\n",
            "2/2 [==============================] - 0s 66ms/step - loss: 0.0029 - val_loss: 2.7887\n",
            "Epoch 45/100\n",
            "2/2 [==============================] - 0s 69ms/step - loss: 0.0030 - val_loss: 3.0394\n",
            "Epoch 46/100\n",
            "2/2 [==============================] - 0s 67ms/step - loss: 0.0028 - val_loss: 3.6810\n",
            "Epoch 47/100\n",
            "2/2 [==============================] - 0s 66ms/step - loss: 0.0029 - val_loss: 3.8906\n",
            "Epoch 48/100\n",
            "2/2 [==============================] - 0s 65ms/step - loss: 0.0028 - val_loss: 3.7855\n",
            "Epoch 49/100\n",
            "2/2 [==============================] - 0s 66ms/step - loss: 0.0028 - val_loss: 3.8530\n",
            "Epoch 50/100\n",
            "2/2 [==============================] - 0s 65ms/step - loss: 0.0027 - val_loss: 4.4900\n",
            "Epoch 51/100\n",
            "2/2 [==============================] - 0s 83ms/step - loss: 0.0027 - val_loss: 4.8197\n",
            "Epoch 52/100\n",
            "2/2 [==============================] - 0s 64ms/step - loss: 0.0026 - val_loss: 4.6215\n",
            "Epoch 53/100\n",
            "2/2 [==============================] - 0s 66ms/step - loss: 0.0026 - val_loss: 4.8098\n",
            "Epoch 54/100\n",
            "2/2 [==============================] - 0s 67ms/step - loss: 0.0025 - val_loss: 5.4239\n",
            "Epoch 55/100\n",
            "2/2 [==============================] - 0s 71ms/step - loss: 0.0025 - val_loss: 5.3384\n",
            "Epoch 56/100\n",
            "2/2 [==============================] - 0s 66ms/step - loss: 0.0025 - val_loss: 5.0067\n",
            "Epoch 57/100\n",
            "2/2 [==============================] - 0s 64ms/step - loss: 0.0023 - val_loss: 5.3323\n",
            "Epoch 58/100\n",
            "2/2 [==============================] - 0s 63ms/step - loss: 0.0023 - val_loss: 5.3904\n",
            "Epoch 59/100\n",
            "2/2 [==============================] - 0s 75ms/step - loss: 0.0023 - val_loss: 4.9922\n",
            "Epoch 60/100\n",
            "2/2 [==============================] - 0s 67ms/step - loss: 0.0022 - val_loss: 4.9643\n",
            "Epoch 61/100\n",
            "2/2 [==============================] - 0s 66ms/step - loss: 0.0022 - val_loss: 5.2772\n",
            "Epoch 62/100\n",
            "2/2 [==============================] - 0s 67ms/step - loss: 0.0020 - val_loss: 4.9644\n",
            "Epoch 63/100\n",
            "2/2 [==============================] - 0s 72ms/step - loss: 0.0020 - val_loss: 4.9507\n",
            "Epoch 64/100\n",
            "2/2 [==============================] - 0s 65ms/step - loss: 0.0019 - val_loss: 5.0079\n",
            "Epoch 65/100\n",
            "2/2 [==============================] - 0s 66ms/step - loss: 0.0019 - val_loss: 4.4226\n",
            "Epoch 66/100\n",
            "2/2 [==============================] - 0s 68ms/step - loss: 0.0018 - val_loss: 4.4089\n",
            "Epoch 67/100\n",
            "2/2 [==============================] - 0s 74ms/step - loss: 0.0019 - val_loss: 3.7641\n",
            "Epoch 68/100\n",
            "2/2 [==============================] - 0s 65ms/step - loss: 0.0021 - val_loss: 3.5113\n",
            "Epoch 69/100\n",
            "2/2 [==============================] - 0s 68ms/step - loss: 0.0020 - val_loss: 4.1884\n",
            "Epoch 70/100\n",
            "2/2 [==============================] - 0s 67ms/step - loss: 0.0020 - val_loss: 3.1336\n",
            "Epoch 71/100\n",
            "2/2 [==============================] - 0s 66ms/step - loss: 0.0021 - val_loss: 3.3977\n",
            "Epoch 72/100\n",
            "2/2 [==============================] - 0s 65ms/step - loss: 0.0018 - val_loss: 3.6013\n",
            "Epoch 73/100\n",
            "2/2 [==============================] - 0s 66ms/step - loss: 0.0016 - val_loss: 3.0351\n",
            "Epoch 74/100\n",
            "2/2 [==============================] - 0s 70ms/step - loss: 0.0017 - val_loss: 3.3897\n",
            "Epoch 75/100\n",
            "2/2 [==============================] - 0s 64ms/step - loss: 0.0018 - val_loss: 3.0706\n",
            "Epoch 76/100\n",
            "2/2 [==============================] - 0s 76ms/step - loss: 0.0016 - val_loss: 2.5478\n",
            "Epoch 77/100\n",
            "2/2 [==============================] - 0s 67ms/step - loss: 0.0019 - val_loss: 2.9299\n",
            "Epoch 78/100\n",
            "2/2 [==============================] - 0s 71ms/step - loss: 0.0015 - val_loss: 3.0006\n",
            "Epoch 79/100\n",
            "2/2 [==============================] - 0s 66ms/step - loss: 0.0016 - val_loss: 2.5639\n",
            "Epoch 80/100\n",
            "2/2 [==============================] - 0s 68ms/step - loss: 0.0015 - val_loss: 2.5500\n",
            "Epoch 81/100\n",
            "2/2 [==============================] - 0s 68ms/step - loss: 0.0014 - val_loss: 2.6461\n",
            "Epoch 82/100\n",
            "2/2 [==============================] - 0s 66ms/step - loss: 0.0013 - val_loss: 2.3952\n",
            "Epoch 83/100\n",
            "2/2 [==============================] - 0s 71ms/step - loss: 0.0014 - val_loss: 2.3199\n",
            "Epoch 84/100\n",
            "2/2 [==============================] - 0s 66ms/step - loss: 0.0013 - val_loss: 2.2685\n",
            "Epoch 85/100\n",
            "2/2 [==============================] - 0s 69ms/step - loss: 0.0013 - val_loss: 2.0492\n",
            "Epoch 86/100\n",
            "2/2 [==============================] - 0s 68ms/step - loss: 0.0012 - val_loss: 1.9290\n",
            "Epoch 87/100\n",
            "2/2 [==============================] - 0s 65ms/step - loss: 0.0013 - val_loss: 1.7489\n",
            "Epoch 88/100\n",
            "2/2 [==============================] - 0s 71ms/step - loss: 0.0013 - val_loss: 1.6558\n",
            "Epoch 89/100\n",
            "2/2 [==============================] - 0s 66ms/step - loss: 0.0013 - val_loss: 1.7898\n",
            "Epoch 90/100\n",
            "2/2 [==============================] - 0s 74ms/step - loss: 0.0012 - val_loss: 1.6808\n",
            "Epoch 91/100\n",
            "2/2 [==============================] - 0s 72ms/step - loss: 0.0012 - val_loss: 1.6547\n",
            "Epoch 92/100\n",
            "2/2 [==============================] - 0s 67ms/step - loss: 0.0012 - val_loss: 1.7740\n",
            "Epoch 93/100\n",
            "2/2 [==============================] - 0s 69ms/step - loss: 0.0012 - val_loss: 1.6700\n",
            "Epoch 94/100\n",
            "2/2 [==============================] - 0s 65ms/step - loss: 0.0012 - val_loss: 1.5553\n",
            "Epoch 95/100\n",
            "2/2 [==============================] - 0s 66ms/step - loss: 0.0012 - val_loss: 1.6265\n",
            "Epoch 96/100\n",
            "2/2 [==============================] - 0s 68ms/step - loss: 0.0012 - val_loss: 1.7116\n",
            "Epoch 97/100\n",
            "2/2 [==============================] - 0s 68ms/step - loss: 0.0012 - val_loss: 1.5638\n",
            "Epoch 98/100\n",
            "2/2 [==============================] - 0s 67ms/step - loss: 0.0012 - val_loss: 1.5241\n",
            "Epoch 99/100\n",
            "2/2 [==============================] - 0s 65ms/step - loss: 0.0012 - val_loss: 1.5171\n",
            "Epoch 100/100\n",
            "2/2 [==============================] - 0s 68ms/step - loss: 0.0011 - val_loss: 1.6288\n"
          ]
        },
        {
          "output_type": "execute_result",
          "data": {
            "text/plain": [
              "<keras.callbacks.History at 0x7fb93c6ae890>"
            ]
          },
          "metadata": {},
          "execution_count": 40
        }
      ]
    },
    {
      "cell_type": "code",
      "source": [
        "import tensorflow as tf"
      ],
      "metadata": {
        "id": "Yne8_KaXoWoZ"
      },
      "execution_count": 41,
      "outputs": []
    },
    {
      "cell_type": "code",
      "source": [
        "tf.__version__"
      ],
      "metadata": {
        "colab": {
          "base_uri": "https://localhost:8080/",
          "height": 35
        },
        "id": "GOKNsPsuoWrG",
        "outputId": "8d3b38d5-08e9-40f1-cd78-63aa4b698087"
      },
      "execution_count": 42,
      "outputs": [
        {
          "output_type": "execute_result",
          "data": {
            "text/plain": [
              "'2.9.2'"
            ],
            "application/vnd.google.colaboratory.intrinsic+json": {
              "type": "string"
            }
          },
          "metadata": {},
          "execution_count": 42
        }
      ]
    },
    {
      "cell_type": "code",
      "source": [
        "### Lets Do the prediction and check performance metrics\n",
        "train_predict=model.predict(X_train)\n",
        "test_predict=model.predict(X_test)"
      ],
      "metadata": {
        "colab": {
          "base_uri": "https://localhost:8080/"
        },
        "id": "9wxmVV5Nov6A",
        "outputId": "fb353208-d2a3-4c58-93c6-69379bfdf9b2"
      },
      "execution_count": 43,
      "outputs": [
        {
          "output_type": "stream",
          "name": "stdout",
          "text": [
            "3/3 [==============================] - 1s 12ms/step\n",
            "2/2 [==============================] - 0s 10ms/step\n"
          ]
        }
      ]
    },
    {
      "cell_type": "code",
      "source": [],
      "metadata": {
        "id": "vqIjHVS6ov_Q"
      },
      "execution_count": null,
      "outputs": []
    }
  ],
  "metadata": {
    "colab": {
      "provenance": [],
      "include_colab_link": true
    },
    "kernelspec": {
      "display_name": "Python 3",
      "name": "python3"
    },
    "language_info": {
      "name": "python"
    }
  },
  "nbformat": 4,
  "nbformat_minor": 0
}